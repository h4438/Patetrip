{
 "cells": [
  {
   "cell_type": "code",
   "execution_count": 4,
   "id": "882e16af-f37c-4e30-8b65-488251c21d32",
   "metadata": {},
   "outputs": [],
   "source": [
    "FOOD_SUGGEST_CONST = \\\n",
    "{\"inputs\":[\"chat_history\", \"time_unit\", \"timely\", \"day_number\",'medical_record', 'eating_habit', 'health_goal', 'input'],\n",
    " \"outputs\": {\"ingredients\": \"a js array of ingredients for the diet plan.\",\n",
    "             \"quantities\": \"a js array of each ingredient quantity.\", \n",
    "             \"reason\": \"a description including each ingredient's health usage.\"},\n",
    " \"template\": \"\"\"You are a nutrition doctor.\n",
    " \n",
    " You have {timely} checkup with your patient and today is day number {day_number}.\n",
    " \n",
    " So far, you have given advises for your patient to do the following things. \n",
    " {chat_history}\n",
    "\n",
    " Your patient lastest response: {input}.\n",
    " \n",
    " You have noted your patient's history medical record, eating habits and health goals.\n",
    "Medical record: {medical_record}.\n",
    "Eating habits: {eating_habit}.\n",
    "Health goals: {health_goal}.\n",
    "\n",
    "\n",
    "Mission: Based on what your patient have told and what you have advised so far, please give a diet plan for the next {time_unit}.\n",
    "Requirement: You must adhere to the requirements listed in triple backquotes.\n",
    "```\n",
    "The diet plan for each week should contain food ingredients and their quantities.\n",
    "You should note in mind your patient's health goals, in order to devise a diet plan.\n",
    "You should check carefully your patient's medical record before making any decision. Avoid including any thing that cause food allergy to your patient.\n",
    "You should check carefully your patient's eating habit before making any decision. Try to find ingredients that your patient prefer.\n",
    "```\n",
    "\n",
    "{format_instructions}\n",
    "\n",
    "Output:\"\"\"}\n",
    "\n",
    "from langchain.llms import BaseLLM\n",
    "from langchain import LLMChain, PromptTemplate\n",
    "import sys\n",
    "import os\n",
    "from typing import Dict\n",
    "# sys.path.append(f\"{os.path.dirname(__file__)}/../..\")\n",
    "sys.path.append('../')\n",
    "from botcore.utils import build_prompt, CheckupMemory, parse_nested_json\n",
    "from botcore.setup import trace_palm2\n",
    "\n",
    "def build_food_suggest_chain(model, memory):\n",
    "    inputs = FOOD_SUGGEST_CONST['inputs']\n",
    "    outputs = FOOD_SUGGEST_CONST['outputs']\n",
    "    template = FOOD_SUGGEST_CONST['template']\n",
    "    prompt = build_prompt(inputs, outputs, template)\n",
    "    chain = LLMChain(llm=model, prompt=prompt, output_key='result', verbose=True, memory=memory)\n",
    "    return chain\n",
    "\n",
    "class BotDoctor:\n",
    "\n",
    "    def __init__(self, model: BaseLLM):\n",
    "        self.memory = CheckupMemory(input_key='input')\n",
    "        self.chain = build_food_suggest_chain(model, self.memory.get())\n",
    "        self.day = 1\n",
    "    \n",
    "    def load_note(self, input: Dict):\n",
    "        self.note = input\n",
    "\n",
    "    def checkup(self):\n",
    "        if self.day == 1:\n",
    "            human_input = \"Hello doctor\"\n",
    "        else:\n",
    "            human_input = \"I have followed your advise\"\n",
    "        inputs = {\"time_unit\": \"week\", \"timely\": \"weekly\",\n",
    "                  \"day_number\": self.day, \"input\": human_input, **self.note}\n",
    "        ans = self.chain(inputs)\n",
    "        data = parse_nested_json(ans['result'])\n",
    "        self.memory.load_conversation(data['reason'], self.day)\n",
    "        self.day += 1\n",
    "        return data\n"
   ]
  },
  {
   "cell_type": "code",
   "execution_count": 5,
   "id": "078ce372-2f38-4b17-834c-c21b49e29f5f",
   "metadata": {},
   "outputs": [
    {
     "name": "stdout",
     "output_type": "stream",
     "text": [
      "Enable tracing at test-deploy\n",
      "Vertex AI Palm 2 ready\n"
     ]
    }
   ],
   "source": [
    "import sys\n",
    "sys.path.append(\"../\")\n",
    "from botcore.utils import load_example_input\n",
    "from botcore.setup import trace_palm2\n",
    "\n",
    "model = trace_palm2()\n",
    "\n",
    "input = load_example_input()\n",
    "doctor = BotDoctor(model)\n",
    "doctor.load_note(input)"
   ]
  },
  {
   "cell_type": "code",
   "execution_count": 8,
   "id": "52095705-b65d-462f-94d8-95809e7e62ca",
   "metadata": {},
   "outputs": [
    {
     "name": "stdout",
     "output_type": "stream",
     "text": [
      "\n",
      "\n",
      "\u001b[1m> Entering new  chain...\u001b[0m\n",
      "Prompt after formatting:\n",
      "\u001b[32;1m\u001b[1;3mYou are a nutrition doctor.\n",
      " \n",
      " You have weekly checkup with your patient and today is day number 3.\n",
      " \n",
      " So far, you have given advises for your patient to do the following things. \n",
      " Human: I have followed your advise\n",
      "AI: Welcome to day 1! I am a nutrition doctor who can help achiving health goals effectively.\n",
      "AI: Here is my advise. Oatmeal is a good source of fiber, which can help you feel full and satisfied. Blueberries are a good source of antioxidants, which can help protect your cells from damage. Cinnamon has been shown to help lower blood sugar levels. Honey is a natural sweetener that can help you reduce your intake of added sugar. Almond milk is a good source of protein and calcium..\n",
      "Human: Thanks doctor! I will follow your advise.\n",
      "Human: I have followed your advise\n",
      "AI: Welcome to day 2!\n",
      "AI: Here is my advise. Oatmeal is a good source of fiber, which can help you feel full and satisfied. Blueberries are a good source of antioxidants, which can help protect your cells from damage. Cinnamon has been shown to help lower blood sugar levels. Honey is a natural sweetener that can help you reduce your intake of added sugar. Almond milk is a good source of protein and calcium..\n",
      "Human: Thanks doctor! I will follow your advise.\n",
      "\n",
      " Your patient lastest response: I have followed your advise.\n",
      " \n",
      " You have noted your patient's history medical record, eating habits and health goals.\n",
      "Medical record: No chronic diseases or food allergies..\n",
      "Eating habits: Likes fast food and quick-prep meals but wants to switch to a healthier eating regimen.\n",
      "Health goals: Weight loss and improving overall cardiovascular health..\n",
      "\n",
      "\n",
      "Mission: Based on what your patient have told and what you have advised so far, please give a diet plan for the next week.\n",
      "Requirement: You must adhere to the requirements listed in triple backquotes.\n",
      "```\n",
      "The diet plan for each week should contain food ingredients and their quantities.\n",
      "You should note in mind your patient's health goals, in order to devise a diet plan.\n",
      "You should check carefully your patient's medical record before making any decision. Avoid including any thing that cause food allergy to your patient.\n",
      "You should check carefully your patient's eating habit before making any decision. Try to find ingredients that your patient prefer.\n",
      "```\n",
      "\n",
      "The output should be a markdown code snippet formatted in the following schema, including the leading and trailing \"```json\" and \"```\":\n",
      "\n",
      "```json\n",
      "{\n",
      "\t\"ingredients\": string  // a js array of ingredients for the diet plan.\n",
      "\t\"quantities\": string  // a js array of each ingredient quantity.\n",
      "\t\"reason\": string  // a description including each ingredient's health usage.\n",
      "}\n",
      "```\n",
      "\n",
      "Output:\u001b[0m\n",
      "\n",
      "\u001b[1m> Finished chain.\u001b[0m\n"
     ]
    },
    {
     "data": {
      "text/plain": [
       "{'ingredients': ['oatmeal', 'blueberries', 'cinnamon', 'honey', 'almond milk'],\n",
       " 'quantities': ['1 cup', '1/2 cup', '1 teaspoon', '1 teaspoon', '1 cup'],\n",
       " 'reason': 'Oatmeal is a good source of fiber, which can help you feel full and satisfied. Blueberries are a good source of antioxidants, which can help protect your cells from damage. Cinnamon has been shown to help lower blood sugar levels. Honey is a natural sweetener that can help you reduce your intake of added sugar. Almond milk is a good source of protein and calcium.'}"
      ]
     },
     "execution_count": 8,
     "metadata": {},
     "output_type": "execute_result"
    }
   ],
   "source": [
    "data = doctor.checkup()\n",
    "data"
   ]
  }
 ],
 "metadata": {
  "kernelspec": {
   "display_name": "Python 3 (ipykernel)",
   "language": "python",
   "name": "python3"
  },
  "language_info": {
   "codemirror_mode": {
    "name": "ipython",
    "version": 3
   },
   "file_extension": ".py",
   "mimetype": "text/x-python",
   "name": "python",
   "nbconvert_exporter": "python",
   "pygments_lexer": "ipython3",
   "version": "3.10.6"
  }
 },
 "nbformat": 4,
 "nbformat_minor": 5
}
