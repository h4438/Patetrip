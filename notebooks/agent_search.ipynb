{
 "cells": [
  {
   "cell_type": "markdown",
   "id": "c665263f-0cd3-4628-bd65-5cadb51edd5b",
   "metadata": {},
   "source": [
    "# agent search engine"
   ]
  },
  {
   "cell_type": "code",
   "execution_count": 4,
   "id": "83bd7ea8-c9ff-44c5-9c72-76abe920af26",
   "metadata": {},
   "outputs": [],
   "source": [
    "import sys\n",
    "sys.path.append(\"../\")\n",
    "# from setup import trace_ai21\n",
    "from langchain.tools import DuckDuckGoSearchRun\n",
    "search = DuckDuckGoSearchRun()\n",
    "# MODEL = trace_ai21('food_search')"
   ]
  },
  {
   "cell_type": "code",
   "execution_count": 2,
   "id": "9d473e35-631e-47d1-9b27-965f678e97ff",
   "metadata": {},
   "outputs": [
    {
     "data": {
      "text/plain": [
       "\"1. Banh Mi Originating from France, the Banh Mi (Vietnamese baguette) is made from a long list of ingredients that might make you feel overstuffed when you first hear of it, but the harmonious combinations will change your thoughts. The baguette with the crispy crust is filled with pate, butter, various meat types, and fresh vegetables. Top Traditional Vietnamese Dishes You Need to Try ASIA / VIETNAM Bánh mì is a traditional Vietnamese baguette sandwich | © Hong Hanh Mac Thi / Alamy Stock Photo Isabelle Sudron 12 September 2022 View Want to join like-minded travellers and discover more about the people and its culture on an epic 12-day adventure around Vietnam? Now you can book your place with Culture Trip. Mì Quảng We love Mì Quảng. For great value, it's the perfect Vietnamese meal — noodles, peanuts, rice crackers, pork and a turmeric broth. 13. Vietnamese Broken Rice Com Tam Recipe with Grilled Pork. Vietnamese Broken Rice (Com Tam) with Grilled Pork is a popular street food dish in Vietnam. It features fragrant broken rice topped with grilled marinated pork, often served with pickled vegetables, sliced cucumber, and a side of fish sauce for dipping. Favorite seafood soups in Vietnam include banh canh cua - a rich, thick crab soup with quail eggs and white tapioca noodles - and bun rieu cua, thin rice noodles in a crimson-hued broth made from tomatoes and pulverized crab shells, topped with crab fat that's sautéed with shallots.\""
      ]
     },
     "execution_count": 2,
     "metadata": {},
     "output_type": "execute_result"
    }
   ],
   "source": [
    "ans = search(\"Top signature dishes in North Vietnam?\")\n",
    "ans"
   ]
  },
  {
   "cell_type": "code",
   "execution_count": 9,
   "id": "0f2827a6-0f32-4bfd-b7c3-0dcb05c15096",
   "metadata": {},
   "outputs": [
    {
     "data": {
      "text/plain": [
       "1455"
      ]
     },
     "execution_count": 9,
     "metadata": {},
     "output_type": "execute_result"
    }
   ],
   "source": [
    "len(ans)"
   ]
  },
  {
   "cell_type": "markdown",
   "id": "46eaca31-3e48-47b5-b4a0-c7e5e5e10b7e",
   "metadata": {},
   "source": [
    "# summarize chain"
   ]
  },
  {
   "cell_type": "code",
   "execution_count": 8,
   "id": "2c198ed8-2f7f-4d2d-95c1-9a01271a5d90",
   "metadata": {},
   "outputs": [
    {
     "data": {
      "text/plain": [
       "1"
      ]
     },
     "execution_count": 8,
     "metadata": {},
     "output_type": "execute_result"
    }
   ],
   "source": [
    "from langchain import OpenAI, PromptTemplate, LLMChain\n",
    "from langchain.text_splitter import TextSplitter\n",
    "\n",
    "text_splitter = TextSplitter(chunksize = )\n",
    "texts = text_splitter.split_text(ans)\n",
    "len(texts)\n"
   ]
  },
  {
   "cell_type": "markdown",
   "id": "f1d83473-9517-4b7e-8957-3cd851856e48",
   "metadata": {},
   "source": [
    "# test chain"
   ]
  },
  {
   "cell_type": "code",
   "execution_count": 23,
   "id": "769149ea-9f5f-49b8-9362-915e77d63e92",
   "metadata": {},
   "outputs": [
    {
     "name": "stdout",
     "output_type": "stream",
     "text": [
      "Enable tracing at food_search\n",
      "OPENAI ready\n"
     ]
    }
   ],
   "source": [
    "from langchain.prompts import PromptTemplate\n",
    "from langchain.chains import LLMChain\n",
    "from setup import trace_openai\n",
    "\n",
    "MODEL = trace_openai(\"food_search\")\n",
    "\n",
    "TEMPLATE = \"\"\" Given a paragraph about Vietnam's signature dishes.\n",
    "Please give short description for each dish.\n",
    "The paragraph: {para}\n",
    "The foods:\"\"\"\n",
    "\n",
    "prompt = PromptTemplate(input_variables=['para'], template=TEMPLATE)\n",
    "\n",
    "chain = LLMChain(llm=MODEL, prompt=prompt)"
   ]
  },
  {
   "cell_type": "code",
   "execution_count": 29,
   "id": "77483323-bc5c-4198-921f-b2407692a61a",
   "metadata": {},
   "outputs": [
    {
     "data": {
      "text/plain": [
       "'\\n\\nCurry Udon: A Japanese dish consisting of thick noodles made from wheat flour, served in a bowl of Japanese curry.\\nShabu-shabu: A popular Japanese dish consisting of thinly sliced meat and vegetables cooked in water, evolved from the traditional Mongolian nabemono (one-pot) cooking.\\nYakisoba: Japanese fried noodles usually mixed with a variety of meat and vegetables, such as pork, cabbage, onions, and carrots.\\nKaiyaki-misu: A traditional Japanese dish originating from the Tsugaru region in Aomori prefecture, made by simmering scallops, eggs, leeks, and scallions in miso-based broth.\\nChicken Katsu: A traditional Japanese dish and a type of katsu, made by dredging tender chicken breast in flour, eggs, and panko breadcrumbs, then frying the cutlets in hot oil until they become golden and crunchy.'"
      ]
     },
     "execution_count": 29,
     "metadata": {},
     "output_type": "execute_result"
    }
   ],
   "source": [
    "foods = chain.run(ans)\n",
    "foods"
   ]
  },
  {
   "cell_type": "markdown",
   "id": "59a57814-1a39-4b41-a7e9-56932f74f2f7",
   "metadata": {
    "jp-MarkdownHeadingCollapsed": true
   },
   "source": [
    "# agent"
   ]
  },
  {
   "cell_type": "code",
   "execution_count": 27,
   "id": "9357d0ca-f143-4a71-9c51-67000ac2037c",
   "metadata": {},
   "outputs": [
    {
     "name": "stdout",
     "output_type": "stream",
     "text": [
      "Enable tracing at food_search\n",
      "AI21 ready\n"
     ]
    }
   ],
   "source": [
    "from langchain.agents import initialize_agent\n",
    "from langchain.agents import AgentType\n",
    "from langchain.tools import Tool\n",
    "\n",
    "AI21 = trace_ai21('food_search')\n",
    "\n",
    "search = DuckDuckGoSearchRun()\n",
    "\n",
    "search_tool = Tool.from_function(func=search.run, name=\"Search\", description=\"useful for when you need to answer questions about signature dishes.\")\n",
    "\n",
    "agent = initialize_agent([search_tool], AI21, agent=AgentType.ZERO_SHOT_REACT_DESCRIPTION, verbose=True)"
   ]
  },
  {
   "cell_type": "markdown",
   "id": "7f038676-40ce-4b0f-800b-bb57181f92b6",
   "metadata": {
    "jp-MarkdownHeadingCollapsed": true
   },
   "source": [
    "# BUILD"
   ]
  },
  {
   "cell_type": "code",
   "execution_count": 26,
   "id": "2342f199-3aac-4453-8804-a917260ca610",
   "metadata": {},
   "outputs": [],
   "source": [
    "import sys\n",
    "sys.path.append(\"../\")\n",
    "from langchain.tools import DuckDuckGoSearchRun\n",
    "from langchain.llms import BaseLLM\n",
    "from langchain.prompts import PromptTemplate\n",
    "from langchain.chains import LLMChain\n",
    "# my code\n",
    "from botcore.setup import trace_palm2\n",
    "from botcore.utils import parse_nested_json, build_prompt\n",
    "\n",
    "def build_list_chain(MODEL: BaseLLM) -> LLMChain:\n",
    "    inputs = ['para','country']\n",
    "    outputs = {\"chain\": \"always return 'find_food'\",\n",
    "               \"food\": \"a js array of all the dishes in the given paragraph.\",\n",
    "               \"desc\": \"a js array of dish descriptions. These descriptions must be short and concise.\"}\n",
    "    TEMPLATE = \"\"\"You are a {country} person. Given a paragraph about Vietnam's signature dishes delimited by triple backquotes.\n",
    "    ```\n",
    "    {para}\n",
    "    ```\n",
    "    Please do your best to complete the task as instructed.\n",
    "    {format_instructions}\n",
    "    Answer:\"\"\"\n",
    "    \n",
    "    prompt = build_prompt(inputs, outputs, TEMPLATE)\n",
    "    chain = LLMChain(llm=MODEL, prompt=prompt, output_key='result')\n",
    "    return chain\n",
    "\n",
    "class FoodFinder:\n",
    "\n",
    "    def __init__(self, model: BaseLLM):\n",
    "        self.search_tool = DuckDuckGoSearchRun()\n",
    "        self.chain = build_list_chain(model)\n",
    "        print(\"Food finder is ready\")\n",
    "\n",
    "    def find(self, place: str):\n",
    "        geo_place = place.strip()\n",
    "        prompt = f\"Top signature dishes in {geo_place}.\"\n",
    "        print(f\"Searching {prompt}\")\n",
    "        paragraph = self.search_tool(prompt)\n",
    "        ans = self.chain({\"para\": paragraph, \"country\":geo_place})\n",
    "        return parse_nested_json(ans['result'])"
   ]
  },
  {
   "cell_type": "code",
   "execution_count": 27,
   "id": "5ba00734-c895-449b-ad58-6f15fc7e247f",
   "metadata": {},
   "outputs": [
    {
     "name": "stdout",
     "output_type": "stream",
     "text": [
      "Enable tracing at food_search\n",
      "Vertex AI Palm 2 ready\n",
      "Food finder is ready\n",
      "Searching Top signature dishes in South Vietnam.\n"
     ]
    }
   ],
   "source": [
    "MODEL = trace_palm2(session=\"food_search\", max_tokens=200)\n",
    "\n",
    "food_finder = FoodFinder(MODEL)\n",
    "\n",
    "data = food_finder.find(\"South Vietnam\")"
   ]
  },
  {
   "cell_type": "code",
   "execution_count": 28,
   "id": "5b1a3374-5253-4cfd-bd6e-a03d2c525149",
   "metadata": {},
   "outputs": [
    {
     "data": {
      "text/plain": [
       "{'chain': 'find_food',\n",
       " 'food': ['Bún mắm', 'Bún chả', 'Chả giò', 'Mì Quảng', 'Bánh mì'],\n",
       " 'desc': ['Fermented Fish Noodle Soup',\n",
       "  'Grilled Pork Meatballs with Vermicelli Noodles',\n",
       "  'Fried Spring Rolls',\n",
       "  'Noodles, peanuts, rice crackers, pork and a turmeric broth',\n",
       "  'Convenient, economical Vietnamese dish that can be found on many street corners around the country']}"
      ]
     },
     "execution_count": 28,
     "metadata": {},
     "output_type": "execute_result"
    }
   ],
   "source": [
    "data"
   ]
  }
 ],
 "metadata": {
  "kernelspec": {
   "display_name": "Python 3 (ipykernel)",
   "language": "python",
   "name": "python3"
  },
  "language_info": {
   "codemirror_mode": {
    "name": "ipython",
    "version": 3
   },
   "file_extension": ".py",
   "mimetype": "text/x-python",
   "name": "python",
   "nbconvert_exporter": "python",
   "pygments_lexer": "ipython3",
   "version": "3.10.6"
  }
 },
 "nbformat": 4,
 "nbformat_minor": 5
}
