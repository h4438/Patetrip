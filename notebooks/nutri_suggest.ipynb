{
 "cells": [
  {
   "cell_type": "code",
   "execution_count": 1,
   "id": "274e8bf2-6715-463f-9116-5e89eb953bdb",
   "metadata": {},
   "outputs": [
    {
     "name": "stdout",
     "output_type": "stream",
     "text": [
      "Enable tracing at test-deploy\n",
      "Vertex AI Palm 2 ready\n"
     ]
    }
   ],
   "source": [
    "FOOD_SUGGEST_CONST = \\\n",
    "{\"inputs\":[\"time_unit\", \"timely\", \"timeline\", 'medical_record', 'eating_habit', 'health_goal'],\n",
    " \"outputs\": {\"ingredients\": \"a js array of food ingredients for the diet plan. The length of the array should not be larger than 5.\",\n",
    "             \"reason\": \"a description including each ingredient's health usage.\"},\n",
    " \"template\": \"\"\"You are a nutrition doctor.\n",
    "  \n",
    " You have noted your patient's history medical record, eating habits and health goals.\n",
    "Medical record: {medical_record}.\n",
    "Eating habits: {eating_habit}.\n",
    "Health goals: {health_goal}.\n",
    "\n",
    "\n",
    "Mission: Based on what you have noted, please make a {timely} diet plan for {timeline}.\n",
    "Requirement: You must adhere to the requirements listed in triple backquotes.\n",
    "```\n",
    "The {timely} diet plan for each {time_unit} should list the food ingredients. \n",
    "You should note in mind your patient's health goals, in order to devise a suitable diet plan.\n",
    "You should check carefully your patient's medical record before making any decision. Avoid including any thing that cause food allergy to your patient.\n",
    "You should check carefully your patient's eating habit before making any decision. Try to find ingredients that your patient prefer.\n",
    "```\n",
    "\n",
    "Desired Format: Each {timely} diet plan output should follow the below format.\n",
    "\n",
    "# {time_unit}_number: \n",
    "FOOD: <comma_separated_list_of_no_more_than_five_food_ingredients>\n",
    "DESC: <a_description_including_each_ingredient's_health_usage_of_{time_unit}_number_diet_plan>\n",
    "TARGET: <a_target_for_{time_unit}_number_diet_plan>\n",
    "\n",
    "\n",
    "Output:\"\"\"}\n",
    "\n",
    "from langchain.llms import BaseLLM\n",
    "from langchain import LLMChain, PromptTemplate\n",
    "import sys\n",
    "import os\n",
    "from typing import Dict\n",
    "# sys.path.append(f\"{os.path.dirname(__file__)}/../..\")\n",
    "sys.path.append('../')\n",
    "from botcore.utils import build_prompt, parse_nested_json\n",
    "from botcore.setup import trace_palm2\n",
    "\n",
    "def build_food_suggest_chain(model):\n",
    "    inputs = FOOD_SUGGEST_CONST['inputs']\n",
    "    # print(inputs)\n",
    "    # outputs = FOOD_SUGGEST_CONST['outputs']\n",
    "    template = FOOD_SUGGEST_CONST['template']\n",
    "    prompt = PromptTemplate(input_variables=inputs, template=template)\n",
    "    chain = LLMChain(llm=model, prompt=prompt, output_key='result', verbose=True)\n",
    "    return chain\n",
    "\n",
    "model = trace_palm2(max_tokens=1000)\n",
    "chain = build_food_suggest_chain(model)\n"
   ]
  },
  {
   "cell_type": "code",
   "execution_count": 2,
   "id": "2f427107-284a-4206-a524-b1f9609028a8",
   "metadata": {},
   "outputs": [
    {
     "name": "stdout",
     "output_type": "stream",
     "text": [
      "\n",
      "\n",
      "\u001b[1m> Entering new  chain...\u001b[0m\n",
      "Prompt after formatting:\n",
      "\u001b[32;1m\u001b[1;3mYou are a nutrition doctor.\n",
      "  \n",
      " You have noted your patient's history medical record, eating habits and health goals.\n",
      "Medical record: No chronic diseases or food allergies..\n",
      "Eating habits: Likes fast food and quick-prep meals but wants to switch to a healthier eating regimen.\n",
      "Health goals: Weight loss and improving overall cardiovascular health..\n",
      "\n",
      "\n",
      "Mission: Based on what you have noted, please make a monthly diet plan for 3 months.\n",
      "Requirement: You must adhere to the requirements listed in triple backquotes.\n",
      "```\n",
      "The monthly diet plan for each month should list the food ingredients. \n",
      "You should note in mind your patient's health goals, in order to devise a suitable diet plan.\n",
      "You should check carefully your patient's medical record before making any decision. Avoid including any thing that cause food allergy to your patient.\n",
      "You should check carefully your patient's eating habit before making any decision. Try to find ingredients that your patient prefer.\n",
      "```\n",
      "\n",
      "Desired Format: Each monthly diet plan output should follow the below format.\n",
      "\n",
      "# month_number: \n",
      "FOOD: <comma_separated_list_of_no_more_than_five_food_ingredients>\n",
      "DESC: <a_description_including_each_ingredient's_health_usage_of_month_number_diet_plan>\n",
      "TARGET: <a_target_for_month_number_diet_plan>\n",
      "\n",
      "\n",
      "Output:\u001b[0m\n",
      "\n",
      "\u001b[1m> Finished chain.\u001b[0m\n"
     ]
    }
   ],
   "source": [
    "from botcore.utils import load_example_input\n",
    "input_data = load_example_input()\n",
    "input_data['timeline'] = '3 months'\n",
    "inputs = {\"time_unit\": \"month\", \"timely\": \"monthly\", **input_data}\n",
    "ans = chain(inputs)\n",
    "# data = parse_nested_json(ans['result'])"
   ]
  },
  {
   "cell_type": "code",
   "execution_count": 12,
   "id": "46b4203b-1edf-4de3-aba9-1085e1da9f9c",
   "metadata": {},
   "outputs": [
    {
     "data": {
      "text/plain": [
       "'# Month 1:\\nFOOD: oatmeal, banana, peanut butter, blueberries, almond milk\\nDESC: Oatmeal is a good source of fiber, which can help you feel full and satisfied. Bananas are a good source of potassium, which is important for heart health. Peanut butter is a good source of protein and healthy fats. Blueberries are a good source of antioxidants, which can help protect your cells from damage. Almond milk is a good source of calcium and vitamin D, which are important for bone health.\\nTARGET: Lose 5 pounds.\\n\\n# Month 2:\\nFOOD: salmon, brown rice, broccoli, carrots, tomatoes\\nDESC: Salmon is a good source of protein and omega-3 fatty acids, which are important for heart health. Brown rice is a good source of fiber, which can help you feel full and satisfied. Broccoli is a good source of vitamins C and K, which are important for immune health. Carrots are a good source of beta-carotene, which is converted to vitamin A in the body. Tomatoes are a good source of lycopene, which is an antioxidant that may help protect against cancer.\\nTARGET: Lose 5 more pounds.\\n\\n# Month 3:\\nFOOD: chicken breast, quinoa, sweet potatoes, spinach, black beans\\nDESC: Chicken breast is a good source of protein and lean meat. Quinoa is a good source of fiber, protein, and iron. Sweet potatoes are a good source of beta-carotene, which is converted to vitamin A in the body. Spinach is a good source of vitamins C and K, which are important for immune health. Black beans are a good source of fiber, protein, and iron.\\nTARGET: Maintain your weight loss and improve your overall cardiovascular health.'"
      ]
     },
     "execution_count": 12,
     "metadata": {},
     "output_type": "execute_result"
    }
   ],
   "source": [
    "ans['result']"
   ]
  },
  {
   "cell_type": "code",
   "execution_count": 19,
   "id": "d99ce354-6bc7-4eb1-9b07-1b2b4e16182a",
   "metadata": {},
   "outputs": [],
   "source": [
    "def parse_nutri_list(list_str: str):\n",
    "    result = []\n",
    "    plans = list_str.strip().split(\"#\")\n",
    "    for plan in plans:\n",
    "        data = {}\n",
    "        if len(plan) < 1:\n",
    "            continue\n",
    "        content = plan.strip().split('\\n')\n",
    "        data['food'] = content[1].replace(\"FOOD: \",'').replace(\" \",'').split(\",\")\n",
    "        data['description'] = content[2].replace(\"DESC: \", '').strip()\n",
    "        data['heading'] = content[3].replace(\"TARGET: \", '').strip()\n",
    "        result.append(data)\n",
    "    return result"
   ]
  },
  {
   "cell_type": "code",
   "execution_count": 20,
   "id": "66ab8404-e0b8-4d2f-94db-57b870954f60",
   "metadata": {},
   "outputs": [
    {
     "name": "stdout",
     "output_type": "stream",
     "text": [
      "[{'description': 'Oatmeal is a good source of fiber, which can help you feel '\n",
      "                 'full and satisfied. Bananas are a good source of potassium, '\n",
      "                 'which is important for heart health. Peanut butter is a good '\n",
      "                 'source of protein and healthy fats. Blueberries are a good '\n",
      "                 'source of antioxidants, which can help protect your cells '\n",
      "                 'from damage. Almond milk is a good source of calcium and '\n",
      "                 'vitamin D, which are important for bone health.',\n",
      "  'food': ['oatmeal', 'banana', 'peanutbutter', 'blueberries', 'almondmilk'],\n",
      "  'heading': 'Lose 5 pounds.'},\n",
      " {'description': 'Salmon is a good source of protein and omega-3 fatty acids, '\n",
      "                 'which are important for heart health. Brown rice is a good '\n",
      "                 'source of fiber, which can help you feel full and satisfied. '\n",
      "                 'Broccoli is a good source of vitamins C and K, which are '\n",
      "                 'important for immune health. Carrots are a good source of '\n",
      "                 'beta-carotene, which is converted to vitamin A in the body. '\n",
      "                 'Tomatoes are a good source of lycopene, which is an '\n",
      "                 'antioxidant that may help protect against cancer.',\n",
      "  'food': ['salmon', 'brownrice', 'broccoli', 'carrots', 'tomatoes'],\n",
      "  'heading': 'Lose 5 more pounds.'},\n",
      " {'description': 'Chicken breast is a good source of protein and lean meat. '\n",
      "                 'Quinoa is a good source of fiber, protein, and iron. Sweet '\n",
      "                 'potatoes are a good source of beta-carotene, which is '\n",
      "                 'converted to vitamin A in the body. Spinach is a good source '\n",
      "                 'of vitamins C and K, which are important for immune health. '\n",
      "                 'Black beans are a good source of fiber, protein, and iron.',\n",
      "  'food': ['chickenbreast', 'quinoa', 'sweetpotatoes', 'spinach', 'blackbeans'],\n",
      "  'heading': 'Maintain your weight loss and improve your overall '\n",
      "             'cardiovascular health.'}]\n"
     ]
    }
   ],
   "source": [
    "from pprint import pprint as ppt\n",
    "data = parse_nutri_list(ans['result'])\n",
    "ppt(data)"
   ]
  }
 ],
 "metadata": {
  "kernelspec": {
   "display_name": "Python 3 (ipykernel)",
   "language": "python",
   "name": "python3"
  },
  "language_info": {
   "codemirror_mode": {
    "name": "ipython",
    "version": 3
   },
   "file_extension": ".py",
   "mimetype": "text/x-python",
   "name": "python",
   "nbconvert_exporter": "python",
   "pygments_lexer": "ipython3",
   "version": "3.10.6"
  }
 },
 "nbformat": 4,
 "nbformat_minor": 5
}
