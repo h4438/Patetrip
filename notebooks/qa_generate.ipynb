{
 "cells": [
  {
   "cell_type": "markdown",
   "id": "38bc1440-cf4a-4833-a9f4-de46ef4e1d01",
   "metadata": {},
   "source": [
    "# QA generate"
   ]
  },
  {
   "cell_type": "markdown",
   "id": "9bf0f750-2254-4291-b342-fdb398c763fa",
   "metadata": {},
   "source": [
    "# learn"
   ]
  },
  {
   "cell_type": "code",
   "execution_count": 1,
   "id": "b9eb10f8-e0e2-40d4-bb40-82262a709bab",
   "metadata": {},
   "outputs": [
    {
     "name": "stdout",
     "output_type": "stream",
     "text": [
      "Enable tracing at qa_gen_pate\n",
      "Vertex AI Palm 2 ready\n"
     ]
    }
   ],
   "source": [
    "import sys\n",
    "import os\n",
    "sys.path.append(f\"../\")\n",
    "from botcore.setup import trace_palm2\n",
    "\n",
    "model = trace_palm2(session='qa_gen_pate')"
   ]
  },
  {
   "cell_type": "markdown",
   "id": "2707fbee-d75a-4336-9a4c-1631f859c748",
   "metadata": {},
   "source": [
    "# Build using chat model"
   ]
  },
  {
   "cell_type": "code",
   "execution_count": 18,
   "id": "4b4e8a97-f88f-4d3c-ac31-2c80a450b196",
   "metadata": {},
   "outputs": [],
   "source": [
    "from langchain.chat_models import ChatVertexAI\n",
    "from langchain.prompts.chat import (\n",
    "    ChatPromptTemplate,\n",
    "    SystemMessagePromptTemplate,\n",
    "    HumanMessagePromptTemplate,\n",
    ")\n",
    "from langchain.schema import HumanMessage, SystemMessage\n",
    "\n",
    "SYSTEM_TEMPLATE = \"\"\"You are a food allergist. Your job is to diagnose what allergen are causing your patient's problem.\n",
    "You also ask questions to make sure that you have all the needed information about your patient's problem, in order to make a confident diagnose.\"\"\"\n",
    "\n",
    "chat = ChatVertexAI(model_name=\"codechat-bison\")\n",
    "messages = [\n",
    "    SystemMessage(content=SYSTEM_TEMPLATE),\n",
    "    HumanMessage(\n",
    "        content=\"My legs are hurt and I can't bend them, after I ate goat meat.\"\n",
    "    )]"
   ]
  },
  {
   "cell_type": "code",
   "execution_count": 19,
   "id": "57c90577-fa61-41c8-a8c0-2cdcb27fb8b0",
   "metadata": {},
   "outputs": [],
   "source": [
    "ans = chat(messages)"
   ]
  },
  {
   "cell_type": "markdown",
   "id": "fc17477a-e15d-4f0c-aa7a-6b63cfd8e23c",
   "metadata": {},
   "source": [
    "# Build using model"
   ]
  },
  {
   "cell_type": "code",
   "execution_count": 10,
   "id": "61554490-bf2b-429d-9084-327053a8c527",
   "metadata": {},
   "outputs": [],
   "source": [
    "ASK_ALLERGEN_CONST = \\\n",
    "{\"inputs\":[\"problem\"],\n",
    " \"outputs\": {\"chain\": \"return 'checkup'.\",\n",
    "             \"questions\": \"\"\"a js array of questions that you will need to ask.\"\"\",\n",
    "            \"options\": \"a js array of comma separated lists of answer options for each question. The length of each comma separated list of answer options should be smaller than 3.\"},\n",
    " \"template\": \"\"\"You are a food allergist and you know that allegy is caused by a certain allergen.\n",
    "Your patient is having a allergic problem and it is described in triple backquotes.\n",
    "\n",
    "```\n",
    "{problem}\n",
    "```\n",
    "\n",
    "Thought: You are considering some possibilities which are listed down below.\n",
    " - The patient's problem can be caused by one or more than two allergens.\n",
    " - The patient may also be allergic the other food or beverages.\n",
    "\n",
    "Mission: You will need to narrow down the possibilities and confidently identify the main allergen (or allergens) causing the problem.\n",
    "\n",
    "Action: Ask short and concise questions which can provide you with more information to fulfil your mission.\n",
    "\n",
    "Remember: This is the first time your patient having a checkup so questions similar to \"Have you been tested for allergies?\" is meaningless.\n",
    "\n",
    "{format_instructions}\n",
    "\n",
    "Outputs:\"\"\"}\n",
    "\n",
    "from langchain.llms import BaseLLM\n",
    "from langchain import LLMChain\n",
    "import sys\n",
    "import os\n",
    "# sys.path.append(f\"{os.path.dirname(__file__)}/../..\")\n",
    "sys.path.append(f\"../\")\n",
    "from botcore.utils import build_prompt, parse_nested_json\n",
    "\n",
    "def build_qa_generation_chain(model: BaseLLM):\n",
    "    inputs = ASK_ALLERGEN_CONST['inputs']\n",
    "    outputs = ASK_ALLERGEN_CONST['outputs']\n",
    "    template = ASK_ALLERGEN_CONST['template']\n",
    "    prompt = build_prompt(inputs, outputs, template, include_parser=True)\n",
    "    chain = LLMChain(llm=model, prompt=prompt, output_key='result')\n",
    "    return chain"
   ]
  },
  {
   "cell_type": "code",
   "execution_count": 2,
   "id": "3ffd4f19-16b2-4398-87fa-f82bedd05953",
   "metadata": {},
   "outputs": [
    {
     "name": "stdout",
     "output_type": "stream",
     "text": [
      "Enable tracing at qa_gen_pate\n",
      "Vertex AI Palm 2 ready\n"
     ]
    },
    {
     "data": {
      "text/plain": [
       "{'problem': 'Eating peanuts made my face swollen',\n",
       " 'result': '```json\\n{\\n  \"chain\": \"checkup\",\\n  \"questions\": [\\n    {\\n      \"question\": \"What other foods have you eaten recently?\",\\n      \"answerOptions\": [\\n        \"Peanuts\",\\n        \"Tree nuts\",\\n        \"Seafood\",\\n        \"Dairy\",\\n        \"Eggs\",\\n        \"Gluten\",\\n        \"Soy\",\\n        \"Other\"\\n      ]\\n    },\\n    {\\n      \"question\": \"Have you had any other symptoms besides swelling?\",\\n      \"answerOptions\": [\\n        \"Hives\",\\n        \"Diarrhea\",\\n        \"Nausea\",\\n        \"Vomiting\",\\n        \"Chest pain\",\\n        \"Shortness of breath\",\\n        \"Other\"\\n      ]\\n    },\\n    {\\n      \"question\": \"How long did it take for your symptoms to start after eating the peanuts?\",\\n      \"answerOptions\": [\\n        \"Less than 1 hour\",\\n        \"1-2 hours\",\\n        \"2-4 hours\",\\n        \"4-8 hours\",\\n        \"8-12 hours\",\\n        \"More than 12 hours\"\\n      ]\\n    },\\n    {\\n      \"question\": \"How severe were your symptoms?\",\\n      \"answerOptions\": [\\n        \"Mild\",\\n        \"Moderate\",\\n        \"Severe\"\\n      ]\\n    },\\n    {\\n      \"question\": \"Have you had any previous allergic reactions?\",\\n      \"answerOptions\": [\\n        \"Yes\",\\n        \"No\"\\n      ]\\n    },\\n    {\\n      \"question\": \"Do you have any family history of allergies?\",\\n      \"answerOptions\": [\\n        \"Yes\",\\n        \"No\"\\n      ]\\n    }\\n  ]\\n}\\n```'}"
      ]
     },
     "execution_count": 2,
     "metadata": {},
     "output_type": "execute_result"
    }
   ],
   "source": [
    "import sys\n",
    "import os\n",
    "sys.path.append(f\"../\")\n",
    "from botcore.setup import trace_palm2\n",
    "from botcore.chains.qa_allergen import build_qa_allergen_chain\n",
    "\n",
    "# MODEL = trace_palm2(max_tokens=600, session=\"qa_gen_pate\")\n",
    "# chain = build_qa_generation_chain(MODEL)\n",
    "chain = build_qa_allergen_chain()\n",
    "ans = chain({\"problem\": \"Eating peanuts made my face swollen\"})\n",
    "ans"
   ]
  },
  {
   "cell_type": "code",
   "execution_count": 4,
   "id": "d2386e08-fcde-4626-9d7d-b208fcc0dcff",
   "metadata": {},
   "outputs": [
    {
     "data": {
      "text/plain": [
       "{'chain': 'checkup',\n",
       " 'questions': [{'question': 'What other foods have you eaten recently?',\n",
       "   'answerOptions': ['Peanuts',\n",
       "    'Tree nuts',\n",
       "    'Seafood',\n",
       "    'Dairy',\n",
       "    'Eggs',\n",
       "    'Gluten',\n",
       "    'Soy',\n",
       "    'Other']},\n",
       "  {'question': 'Have you had any other symptoms besides swelling?',\n",
       "   'answerOptions': ['Hives',\n",
       "    'Diarrhea',\n",
       "    'Nausea',\n",
       "    'Vomiting',\n",
       "    'Chest pain',\n",
       "    'Shortness of breath',\n",
       "    'Other']},\n",
       "  {'question': 'How long did it take for your symptoms to start after eating the peanuts?',\n",
       "   'answerOptions': ['Less than 1 hour',\n",
       "    '1-2 hours',\n",
       "    '2-4 hours',\n",
       "    '4-8 hours',\n",
       "    '8-12 hours',\n",
       "    'More than 12 hours']},\n",
       "  {'question': 'How severe were your symptoms?',\n",
       "   'answerOptions': ['Mild', 'Moderate', 'Severe']},\n",
       "  {'question': 'Have you had any previous allergic reactions?',\n",
       "   'answerOptions': ['Yes', 'No']},\n",
       "  {'question': 'Do you have any family history of allergies?',\n",
       "   'answerOptions': ['Yes', 'No']}]}"
      ]
     },
     "execution_count": 4,
     "metadata": {},
     "output_type": "execute_result"
    }
   ],
   "source": [
    "from botcore.utils import parse_nested_json\n",
    "data = parse_nested_json(ans['result'])\n",
    "data"
   ]
  },
  {
   "cell_type": "code",
   "execution_count": 6,
   "id": "d39c0784-f7cc-4aaf-bfdf-641125df2c51",
   "metadata": {},
   "outputs": [],
   "source": []
  }
 ],
 "metadata": {
  "kernelspec": {
   "display_name": "Python 3 (ipykernel)",
   "language": "python",
   "name": "python3"
  },
  "language_info": {
   "codemirror_mode": {
    "name": "ipython",
    "version": 3
   },
   "file_extension": ".py",
   "mimetype": "text/x-python",
   "name": "python",
   "nbconvert_exporter": "python",
   "pygments_lexer": "ipython3",
   "version": "3.10.6"
  }
 },
 "nbformat": 4,
 "nbformat_minor": 5
}
