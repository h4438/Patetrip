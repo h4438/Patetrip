{
 "cells": [
  {
   "cell_type": "code",
   "execution_count": 1,
   "id": "5e223e3f-18db-43fb-8af8-5449345ecf52",
   "metadata": {},
   "outputs": [
    {
     "name": "stdout",
     "output_type": "stream",
     "text": [
      "Enable tracing at test-deploy\n",
      "Vertex AI Palm 2 ready\n"
     ]
    }
   ],
   "source": [
    "import sys\n",
    "import os\n",
    "# sys.path.append(f\"{os.path.dirname(__file__)}/../..\")\n",
    "sys.path.append('../')\n",
    "from botcore.setup import trace_palm2\n",
    "\n",
    "from botcore.bot.heal_bot import HealthBot\n",
    "model=trace_palm2(max_tokens=1000)\n",
    "bot = HealthBot(model, debug=True)"
   ]
  },
  {
   "cell_type": "code",
   "execution_count": 2,
   "id": "b87af0d2-e046-4982-86e1-a29f82e68ec7",
   "metadata": {},
   "outputs": [
    {
     "name": "stdout",
     "output_type": "stream",
     "text": [
      "\n",
      "\n",
      "\u001b[1m> Entering new  chain...\u001b[0m\n",
      "Prompt after formatting:\n",
      "\u001b[32;1m\u001b[1;3mYou are a nutrition doctor.\n",
      "  \n",
      " You have noted your patient's history medical record, eating habits and health goals.\n",
      "Medical record: No chronic diseases or food allergies..\n",
      "Eating habits: Likes fast food and quick-prep meals but wants to switch to a healthier eating regimen.\n",
      "Health goals: Weight loss and improving overall cardiovascular health..\n",
      "\n",
      "\n",
      "Mission: Based on what you have noted, please make a monthly diet plan for 2 to 3 months..\n",
      "Requirement: You must adhere to the requirements listed in triple backquotes.\n",
      "```\n",
      "The monthly diet plan for each month should list the food ingredients. \n",
      "You should note in mind your patient's health goals, in order to devise a suitable diet plan.\n",
      "You should check carefully your patient's medical record before making any decision. Avoid including any thing that cause food allergy to your patient.\n",
      "You should check carefully your patient's eating habit before making any decision. Try to find ingredients that your patient prefer.\n",
      "```\n",
      "\n",
      "Desired Format: Each monthly diet plan output should follow the below format.\n",
      "\n",
      "# month_number: \n",
      "FOOD: <comma_separated_list_of_no_more_than_five_food_ingredients>\n",
      "DESC: <a_description_including_each_ingredient's_health_usage_of_month_number_diet_plan>\n",
      "TARGET: <a_target_for_month_number_diet_plan>\n",
      "\n",
      "\n",
      "Output:\u001b[0m\n",
      "\n",
      "\u001b[1m> Finished chain.\u001b[0m\n",
      "\n",
      "\n",
      "\u001b[1m> Entering new  chain...\u001b[0m\n",
      "Prompt after formatting:\n",
      "\u001b[32;1m\u001b[1;3mYou are a professional personal trainner.\n",
      "  \n",
      " You have noted your customer's history medical record, eating habits and health goals.\n",
      "Medical record: No chronic diseases or food allergies..\n",
      "Eating habits: Likes fast food and quick-prep meals but wants to switch to a healthier eating regimen.\n",
      "Health goals: Weight loss and improving overall cardiovascular health..\n",
      "\n",
      "Mission: Based on what you have noted, please plan the next month workout routine for 2 to 3 months..\n",
      "Requirements: You must adhere to the requirements listed in triple backquotes.\n",
      "```\n",
      "The workout routine should contain easy to do exercises that can be done at home.\n",
      "You should note in mind your customer's health goals, in order to devise a suitable workout plan.\n",
      "You should check carefully your customer's medical record before making any decision. Avoid including any exercises that your customer should not do.\n",
      "```\n",
      "\n",
      "Desired Format: Each monthly workout routine output should follow the below format.\n",
      "\n",
      "# month_number: \n",
      "EXERCISE: <comma_separated_list_of_no_more_than_five_exercises_that_can_be_done_at_home>\n",
      "DESC: <a_description_including_each_exercise's_health_usage_of_month_number_workout_routine>\n",
      "TARGET: <a_target_for_month_number_workout_routine>\n",
      "\n",
      "Output:\u001b[0m\n",
      "\n",
      "\u001b[1m> Finished chain.\u001b[0m\n"
     ]
    }
   ],
   "source": [
    "from botcore.utils import load_example_input\n",
    "input_data = load_example_input()\n",
    "\n",
    "ans = bot.checkup(input_data)"
   ]
  },
  {
   "cell_type": "code",
   "execution_count": 3,
   "id": "1d3d4f30-1cbd-4737-907a-cef5b74798a2",
   "metadata": {},
   "outputs": [
    {
     "name": "stdout",
     "output_type": "stream",
     "text": [
      "[{'exercise': ['Walking', 'Jumpingjacks', 'Push-ups', 'Crunches', 'Squats'],\n",
      "  'food': ['oatmeal', 'banana', 'peanutbutter', 'blueberries', 'almondmilk'],\n",
      "  'nutri_desc': 'Oatmeal is a good source of fiber, which can help you feel '\n",
      "                'full and satisfied. Bananas are a good source of potassium, '\n",
      "                'which is important for heart health. Peanut butter is a good '\n",
      "                'source of protein and healthy fats. Blueberries are a good '\n",
      "                'source of antioxidants, which can help protect your cells '\n",
      "                'from damage. Almond milk is a good source of calcium and '\n",
      "                'vitamin D, which are important for bone health.',\n",
      "  'nutri_heading': 'Lose 5 pounds.',\n",
      "  'work_desc': 'Walking is a great way to get your heart rate up and burn '\n",
      "               'calories. Jumping jacks are a full-body workout that will help '\n",
      "               'you improve your cardiovascular health and coordination. '\n",
      "               'Push-ups are a great way to build strength in your chest, '\n",
      "               'shoulders, and arms. Crunches are a great way to work your '\n",
      "               'abdominal muscles. Squats are a great way to build strength in '\n",
      "               'your legs and glutes.',\n",
      "  'work_heading': 'Lose 5 pounds and improve your cardiovascular health.'},\n",
      " {'exercise': ['Running', 'Lunges', 'Plank', 'Burpees', 'Bicepcurls'],\n",
      "  'food': ['salmon', 'brownrice', 'broccoli', 'carrots', 'tomatoes'],\n",
      "  'nutri_desc': 'Salmon is a good source of protein and omega-3 fatty acids, '\n",
      "                'which are important for heart health. Brown rice is a good '\n",
      "                'source of fiber, which can help you feel full and satisfied. '\n",
      "                'Broccoli is a good source of vitamins C and K, which are '\n",
      "                'important for immune health. Carrots are a good source of '\n",
      "                'beta-carotene, which is converted to vitamin A in the body. '\n",
      "                'Tomatoes are a good source of lycopene, which is an '\n",
      "                'antioxidant that has been shown to reduce the risk of some '\n",
      "                'types of cancer.',\n",
      "  'nutri_heading': 'Lose another 5 pounds.',\n",
      "  'work_desc': 'Running is a great way to burn calories and improve your '\n",
      "               'cardiovascular health. Lunges are a great way to build '\n",
      "               'strength in your legs and glutes. Plank is a great way to work '\n",
      "               'your core muscles. Burpees are a great way to build strength '\n",
      "               'and endurance. Bicep curls are a great way to build strength '\n",
      "               'in your biceps.',\n",
      "  'work_heading': 'Lose 10 pounds and improve your overall cardiovascular '\n",
      "                  'health.'},\n",
      " {'exercise': ['Swimming', 'Cycling', 'Yoga', 'Pilates', 'Legraises'],\n",
      "  'food': ['chickenbreast', 'quinoa', 'sweetpotatoes', 'spinach', 'blackbeans'],\n",
      "  'nutri_desc': 'Chicken breast is a good source of protein and lean meat. '\n",
      "                'Quinoa is a good source of fiber, protein, and iron. Sweet '\n",
      "                'potatoes are a good source of beta-carotene, vitamin C, and '\n",
      "                'potassium. Spinach is a good source of vitamins A, C, and K, '\n",
      "                'as well as iron. Black beans are a good source of protein, '\n",
      "                'fiber, and iron.',\n",
      "  'nutri_heading': 'Maintain your weight loss and improve your overall '\n",
      "                   'cardiovascular health.',\n",
      "  'work_desc': 'Swimming is a great way to get your heart rate up and burn '\n",
      "               'calories. Cycling is a great way to build strength in your '\n",
      "               'legs and improve your cardiovascular health. Yoga is a great '\n",
      "               'way to improve your flexibility and core strength. Pilates is '\n",
      "               'a great way to build strength and flexibility in your core and '\n",
      "               'lower body. Leg raises are a great way to work your abdominal '\n",
      "               'muscles.',\n",
      "  'work_heading': 'Lose 15 pounds and improve your overall cardiovascular '\n",
      "                  'health.'}]\n"
     ]
    }
   ],
   "source": [
    "from pprint import pprint as ppt\n",
    "ppt(ans)"
   ]
  }
 ],
 "metadata": {
  "kernelspec": {
   "display_name": "Python 3 (ipykernel)",
   "language": "python",
   "name": "python3"
  },
  "language_info": {
   "codemirror_mode": {
    "name": "ipython",
    "version": 3
   },
   "file_extension": ".py",
   "mimetype": "text/x-python",
   "name": "python",
   "nbconvert_exporter": "python",
   "pygments_lexer": "ipython3",
   "version": "3.10.6"
  }
 },
 "nbformat": 4,
 "nbformat_minor": 5
}
