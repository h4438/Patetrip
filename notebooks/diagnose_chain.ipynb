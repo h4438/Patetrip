{
 "cells": [
  {
   "cell_type": "code",
   "execution_count": 11,
   "id": "3b792762-5911-4f19-af58-31f4de40070b",
   "metadata": {},
   "outputs": [
    {
     "name": "stdout",
     "output_type": "stream",
     "text": [
      "Load done\n",
      "chat_memory=ChatMessageHistory(messages=[HumanMessage(content='I having a problem. Eating peanuts made my face swollen..', additional_kwargs={}, example=False), AIMessage(content='What other foods have you eaten recently?', additional_kwargs={}, example=False), HumanMessage(content='Peanuts', additional_kwargs={}, example=False), AIMessage(content='Have you had any other symptoms besides swelling?', additional_kwargs={}, example=False), HumanMessage(content='Hives', additional_kwargs={}, example=False), AIMessage(content='How long did it take for your symptoms to start after eating the peanuts?', additional_kwargs={}, example=False), HumanMessage(content='Less than 1 hour', additional_kwargs={}, example=False), AIMessage(content='How severe were your symptoms?', additional_kwargs={}, example=False), HumanMessage(content='Mild', additional_kwargs={}, example=False), AIMessage(content='Have you had any previous allergic reactions?', additional_kwargs={}, example=False), HumanMessage(content='Yes', additional_kwargs={}, example=False), AIMessage(content='Do you have any family history of allergies?', additional_kwargs={}, example=False), HumanMessage(content='Yes', additional_kwargs={}, example=False)]) output_key=None input_key='verb' return_messages=False human_prefix='Human' ai_prefix='AI' memory_key='chat_history'\n"
     ]
    }
   ],
   "source": [
    "import sys\n",
    "import os\n",
    "from pprint import pprint as ppt\n",
    "# sys.path.append(f\"{os.path.dirname(__file__)}/../\")\n",
    "sys.path.append('../')\n",
    "from botcore.utils import load_sample_qa, QAMemory\n",
    "\n",
    "p, q, a = load_sample_qa()\n",
    "memory = QAMemory(input_key='verb')\n",
    "memory.load_all(p, q, a)\n",
    "print(memory.memory)"
   ]
  },
  {
   "cell_type": "code",
   "execution_count": 12,
   "id": "c2d14b3e-683f-4ce9-88eb-c4eb976a4041",
   "metadata": {},
   "outputs": [],
   "source": [
    "ALLERGEN_DIAGNOSE_CONST = \\\n",
    "{\"inputs\":[\"verb\",\"chat_history\"],\n",
    " \"outputs\": {\"chain\": \"return 'diagnose'.\",\n",
    "             \"allergens\": \"a js array of allergens.\",\n",
    "             \"reason\": \"a explanation for your diagnose.\", \n",
    "             \"guide\": \"a helpful guide to avoid the problem and also point out mistake that your patient is making.\"},\n",
    " \"template\": \"\"\"You are a food allergist and you have asked your patient some questions about the problem.\n",
    " {chat_history}\n",
    "\n",
    "Mission: Based on what your patient have told, please {verb} the allergen (or allergens) that causing the problem and explain the reason.\n",
    "\n",
    "{format_instructions}\n",
    "\n",
    "Output:\"\"\"}\n",
    "\n",
    "from langchain.llms import BaseLLM\n",
    "from langchain import LLMChain\n",
    "import sys\n",
    "import os\n",
    "# sys.path.append(f\"{os.path.dirname(__file__)}/../..\")\n",
    "sys.path.append('../')\n",
    "from botcore.utils import build_prompt\n",
    "from botcore.setup import trace_palm2\n",
    "\n",
    "def build_allergen_diagnose_chain(model, memory):\n",
    "    inputs = ALLERGEN_DIAGNOSE_CONST['inputs']\n",
    "    outputs = ALLERGEN_DIAGNOSE_CONST['outputs']\n",
    "    template = ALLERGEN_DIAGNOSE_CONST['template']\n",
    "    prompt = build_prompt(inputs, outputs, template, include_parser=True)\n",
    "    chain = LLMChain(llm=model, prompt=prompt, output_key='result', verbose=True, memory=memory)\n",
    "    return chain\n"
   ]
  },
  {
   "cell_type": "code",
   "execution_count": 13,
   "id": "aad30f1c-378c-4886-8d1c-61a327f4a73c",
   "metadata": {},
   "outputs": [
    {
     "name": "stdout",
     "output_type": "stream",
     "text": [
      "Enable tracing at test-deploy\n",
      "Vertex AI Palm 2 ready\n",
      "\n",
      "\n",
      "\u001b[1m> Entering new  chain...\u001b[0m\n",
      "Prompt after formatting:\n",
      "\u001b[32;1m\u001b[1;3mYou are a food allergist and you have asked your patient some questions about the problem.\n",
      " Human: I having a problem. Eating peanuts made my face swollen..\n",
      "AI: What other foods have you eaten recently?\n",
      "Human: Peanuts\n",
      "AI: Have you had any other symptoms besides swelling?\n",
      "Human: Hives\n",
      "AI: How long did it take for your symptoms to start after eating the peanuts?\n",
      "Human: Less than 1 hour\n",
      "AI: How severe were your symptoms?\n",
      "Human: Mild\n",
      "AI: Have you had any previous allergic reactions?\n",
      "Human: Yes\n",
      "AI: Do you have any family history of allergies?\n",
      "Human: Yes\n",
      "\n",
      "Mission: Based on what your patient have told, please diagnose the allergen (or allergens) that causing the problem and explain the reason.\n",
      "\n",
      "The output should be a markdown code snippet formatted in the following schema, including the leading and trailing \"```json\" and \"```\":\n",
      "\n",
      "```json\n",
      "{\n",
      "\t\"chain\": string  // return 'diagnose'.\n",
      "\t\"allergens\": string  // a js array of allergens.\n",
      "\t\"reason\": string  // a explanation for your diagnose.\n",
      "\t\"guide\": string  // a helpful guide to avoid the problem and also point out mistake that your patient is making.\n",
      "}\n",
      "```\n",
      "\n",
      "Output:\u001b[0m\n",
      "\n",
      "\u001b[1m> Finished chain.\u001b[0m\n",
      "{'allergens': ['peanuts'],\n",
      " 'chain': 'diagnose',\n",
      " 'guide': 'To avoid further reactions, you should avoid eating peanuts and '\n",
      "          'products that contain peanuts. You should also read food labels '\n",
      "          'carefully to make sure that there are no hidden sources of peanuts. '\n",
      "          'If you have any questions or concerns, you should talk to your '\n",
      "          'doctor.',\n",
      " 'reason': 'Your symptoms are consistent with a peanut allergy. Peanuts are a '\n",
      "           'common allergen, and they can cause a variety of symptoms, '\n",
      "           'including swelling, hives, and difficulty breathing. Your symptoms '\n",
      "           'are mild, but they could become more severe if you continue to eat '\n",
      "           'peanuts.'}\n"
     ]
    },
    {
     "name": "stderr",
     "output_type": "stream",
     "text": [
      "Failed to patch https://api.langchain.plus/runs/9984f53b-97a3-45b6-9b5c-f1e511675d44 in LangChain+ API. HTTPSConnectionPool(host='api.langchain.plus', port=443): Read timed out. (read timeout=4.0)\n"
     ]
    }
   ],
   "source": [
    "from botcore.utils import parse_nested_json\n",
    "from pprint import pprint as ppt\n",
    "model = trace_palm2()\n",
    "chain = build_allergen_diagnose_chain(model, memory.memory)\n",
    "ans = chain({\"verb\": \"diagnose\"})\n",
    "data = parse_nested_json(ans['result'])\n",
    "ppt(data)"
   ]
  }
 ],
 "metadata": {
  "kernelspec": {
   "display_name": "Python 3 (ipykernel)",
   "language": "python",
   "name": "python3"
  },
  "language_info": {
   "codemirror_mode": {
    "name": "ipython",
    "version": 3
   },
   "file_extension": ".py",
   "mimetype": "text/x-python",
   "name": "python",
   "nbconvert_exporter": "python",
   "pygments_lexer": "ipython3",
   "version": "3.10.6"
  }
 },
 "nbformat": 4,
 "nbformat_minor": 5
}
