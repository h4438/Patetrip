{
 "cells": [
  {
   "cell_type": "markdown",
   "id": "38bc1440-cf4a-4833-a9f4-de46ef4e1d01",
   "metadata": {},
   "source": [
    "# QA generate"
   ]
  },
  {
   "cell_type": "markdown",
   "id": "9bf0f750-2254-4291-b342-fdb398c763fa",
   "metadata": {},
   "source": [
    "# learn"
   ]
  },
  {
   "cell_type": "code",
   "execution_count": 6,
   "id": "b9eb10f8-e0e2-40d4-bb40-82262a709bab",
   "metadata": {},
   "outputs": [
    {
     "name": "stdout",
     "output_type": "stream",
     "text": [
      "Enable tracing at qa_gen_pate\n",
      "Vertex AI Palm 2 ready\n"
     ]
    }
   ],
   "source": [
    "import sys\n",
    "import os\n",
    "sys.path.append(f\"../\")\n",
    "from botcore.setup import trace_palm2\n",
    "\n",
    "model = trace_palm2(session='qa_gen_pate')"
   ]
  },
  {
   "cell_type": "code",
   "execution_count": 4,
   "id": "f0d5c101-d04d-4d58-91e4-d89e79aa559b",
   "metadata": {},
   "outputs": [
    {
     "data": {
      "text/plain": [
       "'* What are the ingredients in the cookies that your patient cannot eat?\\n* Have you ever had an allergic reaction to any other foods?\\n* What are your symptoms when you have an allergic reaction?\\n* How long do your symptoms last?\\n* Have you ever been tested for food allergies?\\n* If so, what were the results?\\n* Are there any other foods that you avoid eating because you are allergic to them?\\n* Do you have any other medical conditions that could be related to your food allergies?\\n* Are you taking any medications that could be affecting your food allergies?\\n* Are you pregnant or'"
      ]
     },
     "execution_count": 4,
     "metadata": {},
     "output_type": "execute_result"
    }
   ],
   "source": [
    "q = \"\"\" You are a food allergist and your patient cannot eat cookies.\n",
    "Please think ahead of the allergens that your patient might have an allergy to.\n",
    "And asking questions to confidently determine which allergens are the cause.\n",
    "Questions:\"\"\"\n",
    "\n",
    "a = model(q)\n",
    "a"
   ]
  },
  {
   "cell_type": "markdown",
   "id": "fc17477a-e15d-4f0c-aa7a-6b63cfd8e23c",
   "metadata": {},
   "source": [
    "# Build"
   ]
  },
  {
   "cell_type": "code",
   "execution_count": 7,
   "id": "61554490-bf2b-429d-9084-327053a8c527",
   "metadata": {},
   "outputs": [],
   "source": [
    "ASK_ALLERGEN_CONST = \\\n",
    "{\"inputs\":[\"problem\"],\n",
    " \"outputs\": {\"chain\": \"return 'checkup'.\",\"questions\": \"\"\"a js array of questions accompanied by a list of no more than 4 answer options for each question.\"\"\"},\n",
    " \"template\": \"\"\"You are a food allergist.\n",
    "Your patient is having a problem: {problem}.\n",
    "\n",
    "Your job is trying to determine what allergens are causing your patient's problem. \n",
    "You will need to ask questions which can help you confidently identify what allergens are causing your user problem.\n",
    "Each question asked should be accompanied by a list of answer options.\n",
    "\n",
    "{format_instructions}\n",
    "\n",
    "Questions:\"\"\"}\n",
    "\n",
    "from langchain.llms import BaseLLM\n",
    "from langchain import LLMChain\n",
    "import sys\n",
    "import os\n",
    "# sys.path.append(f\"{os.path.dirname(__file__)}/../..\")\n",
    "sys.path.append(f\"../\")\n",
    "from botcore.utils.prompt_utils import build_prompt\n",
    "\n",
    "def build_qa_generation_chain(model: BaseLLM):\n",
    "    inputs = ASK_ALLERGEN_CONST['inputs']\n",
    "    outputs = ASK_ALLERGEN_CONST['outputs']\n",
    "    template = ASK_ALLERGEN_CONST['template']\n",
    "    prompt = build_prompt(inputs, outputs, template, include_parser=True)\n",
    "    chain = LLMChain(llm=model, prompt=prompt, output_key='result')\n",
    "    return chain"
   ]
  },
  {
   "cell_type": "code",
   "execution_count": 9,
   "id": "3ffd4f19-16b2-4398-87fa-f82bedd05953",
   "metadata": {},
   "outputs": [
    {
     "name": "stdout",
     "output_type": "stream",
     "text": [
      "Enable tracing at qa_gen_pate\n",
      "Vertex AI Palm 2 ready\n"
     ]
    },
    {
     "data": {
      "text/plain": [
       "{'problem': 'Eating shrimps made me feel itching.',\n",
       " 'result': '```json\\n{\\n  \"chain\": \"checkup\",\\n  \"questions\": [\\n    {\\n      \"question\": \"Do you have any other symptoms?\",\\n      \"answerOptions\": [\\n        \"Yes\",\\n        \"No\"\\n      ]\\n    },\\n    {\\n      \"question\": \"What other symptoms do you have?\",\\n      \"answerOptions\": [\\n        \"Swelling\",\\n        \"Hives\",\\n        \"Shortness of breath\",\\n        \"None of the above\"\\n      ]\\n    },\\n    {\\n      \"question\": \"Do you have any other allergies?\",\\n      \"answerOptions\": [\\n        \"Yes\",\\n        \"No\"\\n      ]\\n    },\\n    {\\n      \"question\": \"What other allergies do you have?\",\\n      \"answerOptions\": [\\n        \"Peanuts\",\\n        \"Tree nuts\",\\n        \"Shellfish\",\\n        \"Milk\",\\n        \"Eggs\",\\n        \"Soy\",\\n        \"Wheat\",\\n        \"None of the above\"\\n      ]\\n    },\\n    {\\n      \"question\": \"Have you ever been tested for allergies?\",\\n      \"answerOptions\": [\\n        \"Yes\",\\n        \"'}"
      ]
     },
     "execution_count": 9,
     "metadata": {},
     "output_type": "execute_result"
    }
   ],
   "source": [
    "import sys\n",
    "import os\n",
    "sys.path.append(f\"../\")\n",
    "from botcore.setup import trace_palm2\n",
    "\n",
    "MODEL = trace_palm2(max_tokens=280, session=\"qa_gen_pate\")\n",
    "chain = build_qa_generation_chain(MODEL)\n",
    "ans = chain({\"problem\": \"Eating shrimps made me feel itching.\"})\n",
    "ans"
   ]
  }
 ],
 "metadata": {
  "kernelspec": {
   "display_name": "Python 3 (ipykernel)",
   "language": "python",
   "name": "python3"
  },
  "language_info": {
   "codemirror_mode": {
    "name": "ipython",
    "version": 3
   },
   "file_extension": ".py",
   "mimetype": "text/x-python",
   "name": "python",
   "nbconvert_exporter": "python",
   "pygments_lexer": "ipython3",
   "version": "3.10.6"
  }
 },
 "nbformat": 4,
 "nbformat_minor": 5
}
