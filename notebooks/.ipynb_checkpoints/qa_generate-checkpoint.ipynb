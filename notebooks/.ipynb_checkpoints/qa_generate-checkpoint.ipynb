{
 "cells": [
  {
   "cell_type": "markdown",
   "id": "38bc1440-cf4a-4833-a9f4-de46ef4e1d01",
   "metadata": {},
   "source": [
    "# QA generate"
   ]
  },
  {
   "cell_type": "markdown",
   "id": "9bf0f750-2254-4291-b342-fdb398c763fa",
   "metadata": {},
   "source": [
    "# learn"
   ]
  },
  {
   "cell_type": "code",
   "execution_count": 1,
   "id": "b9eb10f8-e0e2-40d4-bb40-82262a709bab",
   "metadata": {},
   "outputs": [
    {
     "name": "stdout",
     "output_type": "stream",
     "text": [
      "Enable tracing at qa_gen_pate\n",
      "Vertex AI Palm 2 ready\n"
     ]
    }
   ],
   "source": [
    "import sys\n",
    "import os\n",
    "sys.path.append(f\"../\")\n",
    "from botcore.setup import trace_palm2\n",
    "\n",
    "model = trace_palm2(session='qa_gen_pate')"
   ]
  },
  {
   "cell_type": "markdown",
   "id": "2707fbee-d75a-4336-9a4c-1631f859c748",
   "metadata": {},
   "source": [
    "# Build using chat model"
   ]
  },
  {
   "cell_type": "code",
   "execution_count": 18,
   "id": "4b4e8a97-f88f-4d3c-ac31-2c80a450b196",
   "metadata": {},
   "outputs": [],
   "source": [
    "from langchain.chat_models import ChatVertexAI\n",
    "from langchain.prompts.chat import (\n",
    "    ChatPromptTemplate,\n",
    "    SystemMessagePromptTemplate,\n",
    "    HumanMessagePromptTemplate,\n",
    ")\n",
    "from langchain.schema import HumanMessage, SystemMessage\n",
    "\n",
    "SYSTEM_TEMPLATE = \"\"\"You are a food allergist. Your job is to diagnose what allergen are causing your patient's problem.\n",
    "You also ask questions to make sure that you have all the needed information about your patient's problem, in order to make a confident diagnose.\"\"\"\n",
    "\n",
    "chat = ChatVertexAI(model_name=\"codechat-bison\")\n",
    "messages = [\n",
    "    SystemMessage(content=SYSTEM_TEMPLATE),\n",
    "    HumanMessage(\n",
    "        content=\"My legs are hurt and I can't bend them, after I ate goat meat.\"\n",
    "    )]"
   ]
  },
  {
   "cell_type": "code",
   "execution_count": 19,
   "id": "57c90577-fa61-41c8-a8c0-2cdcb27fb8b0",
   "metadata": {},
   "outputs": [],
   "source": [
    "ans = chat(messages)"
   ]
  },
  {
   "cell_type": "code",
   "execution_count": 20,
   "id": "2a4ebe86-c448-43f2-9c23-0b1965dda2de",
   "metadata": {},
   "outputs": [
    {
     "data": {
      "text/plain": [
       "AIMessage(content=\"I'm not able to help with that, as I'm only a language model. If you believe this is an error, please send us your feedback.\", additional_kwargs={}, example=False)"
      ]
     },
     "execution_count": 20,
     "metadata": {},
     "output_type": "execute_result"
    }
   ],
   "source": [
    "ans"
   ]
  },
  {
   "cell_type": "markdown",
   "id": "fc17477a-e15d-4f0c-aa7a-6b63cfd8e23c",
   "metadata": {},
   "source": [
    "# Build using model"
   ]
  },
  {
   "cell_type": "code",
   "execution_count": 4,
   "id": "61554490-bf2b-429d-9084-327053a8c527",
   "metadata": {},
   "outputs": [],
   "source": [
    "ASK_ALLERGEN_CONST = \\\n",
    "{\"inputs\":[\"problem\"],\n",
    " \"outputs\": {\"chain\": \"return 'checkup'.\",\"questions\": \"\"\"a js array of questions accompanied by a list of no more than 3 answer options for each question.\"\"\"},\n",
    " \"template\": \"\"\"You are a food allergist.\n",
    "Your patient is having a problem: {problem}\n",
    "\n",
    "Your job is trying to determine what allergens are causing your patient's problem. \n",
    "You will need to ask questions which can help you confidently identify what allergens are causing your user problem. The questions should be short and concise.\n",
    "Each question asked should be accompanied by a list of answer options.\n",
    "\n",
    "{format_instructions}\n",
    "\n",
    "Questions:\"\"\"}\n",
    "\n",
    "from langchain.llms import BaseLLM\n",
    "from langchain import LLMChain\n",
    "import sys\n",
    "import os\n",
    "# sys.path.append(f\"{os.path.dirname(__file__)}/../..\")\n",
    "sys.path.append(f\"../\")\n",
    "from botcore.utils import build_prompt, parse_nested_json\n",
    "\n",
    "def build_qa_generation_chain(model: BaseLLM):\n",
    "    inputs = ASK_ALLERGEN_CONST['inputs']\n",
    "    outputs = ASK_ALLERGEN_CONST['outputs']\n",
    "    template = ASK_ALLERGEN_CONST['template']\n",
    "    prompt = build_prompt(inputs, outputs, template, include_parser=True)\n",
    "    chain = LLMChain(llm=model, prompt=prompt, output_key='result')\n",
    "    return chain"
   ]
  },
  {
   "cell_type": "code",
   "execution_count": 5,
   "id": "3ffd4f19-16b2-4398-87fa-f82bedd05953",
   "metadata": {},
   "outputs": [
    {
     "name": "stdout",
     "output_type": "stream",
     "text": [
      "Enable tracing at qa_gen_pate\n",
      "Vertex AI Palm 2 ready\n"
     ]
    },
    {
     "data": {
      "text/plain": [
       "{'problem': \"My hands are hurt and I can't bend them, after I ate goat meat.\",\n",
       " 'result': '```json\\n{\\n  \"chain\": \"checkup\",\\n  \"questions\": [\\n    {\\n      \"question\": \"Do you have any other symptoms?\",\\n      \"answerOptions\": [\\n        \"Yes\",\\n        \"No\"\\n      ]\\n    },\\n    {\\n      \"question\": \"Have you had any other reactions to food?\",\\n      \"answerOptions\": [\\n        \"Yes\",\\n        \"No\"\\n      ]\\n    },\\n    {\\n      \"question\": \"What other foods have you eaten recently?\",\\n      \"answerOptions\": [\\n        \"None\",\\n        \"Meat\",\\n        \"Vegetables\",\\n        \"Fruit\",\\n        \"Dairy\",\\n        \"Grains\",\\n        \"Other\"\\n      ]\\n    },\\n    {\\n      \"question\": \"Have you eaten any other goat meat recently?\",\\n      \"answerOptions\": [\\n        \"Yes\",\\n        \"No\"\\n      ]\\n    },\\n    {\\n      \"question\": \"How much goat meat did you eat?\",\\n      \"answerOptions\": [\\n        \"None\",\\n        \"A little\",\\n        \"A lot\"\\n      ]\\n    },\\n    {\\n      \"question\": \"How long ago did you eat the goat meat?\",\\n      \"answerOptions\": [\\n        \"Less than an hour\",\\n        \"1-2 hours\",\\n        \"2-4 hours\",\\n        \"4-8 hours\",\\n        \"8-12 hours\",\\n        \"More than 12 hours\"\\n      ]\\n    },\\n    {\\n      \"question\": \"Have you taken any medication recently?\",\\n      \"answerOptions\": [\\n        \"Yes\",\\n        \"No\"\\n      ]\\n    },\\n    {\\n      \"question\": \"What medication have you taken recently?\",\\n      \"answerOptions\": [\\n        \"None\",\\n        \"Antibiotics\",\\n        \"Painkillers\",\\n        \"Other\"\\n      ]\\n    },\\n    {\\n      \"question\": \"Do you have any other medical conditions?\",\\n      \"answerOptions\": [\\n        \"Yes\",\\n        \"No\"\\n      ]\\n    },\\n    {\\n      \"question\": \"What other medical conditions do you have?\",\\n      \"answerOptions\": [\\n        \"None\",\\n        \"Asthma\",\\n        \"Eczema\",\\n        \"Other\"\\n      ]\\n    }\\n  ]\\n}\\n```'}"
      ]
     },
     "execution_count": 5,
     "metadata": {},
     "output_type": "execute_result"
    }
   ],
   "source": [
    "import sys\n",
    "import os\n",
    "sys.path.append(f\"../\")\n",
    "from botcore.setup import trace_palm2\n",
    "\n",
    "MODEL = trace_palm2(max_tokens=600, session=\"qa_gen_pate\")\n",
    "chain = build_qa_generation_chain(MODEL)\n",
    "ans = chain({\"problem\": \"My hands are hurt and I can't bend them, after I ate goat meat.\"})\n",
    "ans"
   ]
  },
  {
   "cell_type": "code",
   "execution_count": 6,
   "id": "d2386e08-fcde-4626-9d7d-b208fcc0dcff",
   "metadata": {},
   "outputs": [
    {
     "data": {
      "text/plain": [
       "{'chain': 'checkup',\n",
       " 'questions': [{'question': 'Do you have any other symptoms?',\n",
       "   'answerOptions': ['Yes', 'No']},\n",
       "  {'question': 'Have you had any other reactions to food?',\n",
       "   'answerOptions': ['Yes', 'No']},\n",
       "  {'question': 'What other foods have you eaten recently?',\n",
       "   'answerOptions': ['None',\n",
       "    'Meat',\n",
       "    'Vegetables',\n",
       "    'Fruit',\n",
       "    'Dairy',\n",
       "    'Grains',\n",
       "    'Other']},\n",
       "  {'question': 'Have you eaten any other goat meat recently?',\n",
       "   'answerOptions': ['Yes', 'No']},\n",
       "  {'question': 'How much goat meat did you eat?',\n",
       "   'answerOptions': ['None', 'A little', 'A lot']},\n",
       "  {'question': 'How long ago did you eat the goat meat?',\n",
       "   'answerOptions': ['Less than an hour',\n",
       "    '1-2 hours',\n",
       "    '2-4 hours',\n",
       "    '4-8 hours',\n",
       "    '8-12 hours',\n",
       "    'More than 12 hours']},\n",
       "  {'question': 'Have you taken any medication recently?',\n",
       "   'answerOptions': ['Yes', 'No']},\n",
       "  {'question': 'What medication have you taken recently?',\n",
       "   'answerOptions': ['None', 'Antibiotics', 'Painkillers', 'Other']},\n",
       "  {'question': 'Do you have any other medical conditions?',\n",
       "   'answerOptions': ['Yes', 'No']},\n",
       "  {'question': 'What other medical conditions do you have?',\n",
       "   'answerOptions': ['None', 'Asthma', 'Eczema', 'Other']}]}"
      ]
     },
     "execution_count": 6,
     "metadata": {},
     "output_type": "execute_result"
    }
   ],
   "source": [
    "data = parse_nested_json(ans['result'])\n",
    "data"
   ]
  }
 ],
 "metadata": {
  "kernelspec": {
   "display_name": "Python 3 (ipykernel)",
   "language": "python",
   "name": "python3"
  },
  "language_info": {
   "codemirror_mode": {
    "name": "ipython",
    "version": 3
   },
   "file_extension": ".py",
   "mimetype": "text/x-python",
   "name": "python",
   "nbconvert_exporter": "python",
   "pygments_lexer": "ipython3",
   "version": "3.10.6"
  }
 },
 "nbformat": 4,
 "nbformat_minor": 5
}
