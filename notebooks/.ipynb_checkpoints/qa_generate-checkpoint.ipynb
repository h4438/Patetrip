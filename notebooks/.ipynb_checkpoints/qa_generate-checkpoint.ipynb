{
 "cells": [
  {
   "cell_type": "markdown",
   "id": "38bc1440-cf4a-4833-a9f4-de46ef4e1d01",
   "metadata": {},
   "source": [
    "# QA generate"
   ]
  },
  {
   "cell_type": "code",
   "execution_count": 2,
   "id": "61554490-bf2b-429d-9084-327053a8c527",
   "metadata": {},
   "outputs": [
    {
     "ename": "NameError",
     "evalue": "name '__file__' is not defined",
     "output_type": "error",
     "traceback": [
      "\u001b[0;31m---------------------------------------------------------------------------\u001b[0m",
      "\u001b[0;31mNameError\u001b[0m                                 Traceback (most recent call last)",
      "\u001b[0;32m/tmp/ipykernel_21044/3517321827.py\u001b[0m in \u001b[0;36m<module>\u001b[0;34m\u001b[0m\n\u001b[1;32m     12\u001b[0m \u001b[0;32mimport\u001b[0m \u001b[0msys\u001b[0m\u001b[0;34m\u001b[0m\u001b[0;34m\u001b[0m\u001b[0m\n\u001b[1;32m     13\u001b[0m \u001b[0;32mimport\u001b[0m \u001b[0mos\u001b[0m\u001b[0;34m\u001b[0m\u001b[0;34m\u001b[0m\u001b[0m\n\u001b[0;32m---> 14\u001b[0;31m \u001b[0msys\u001b[0m\u001b[0;34m.\u001b[0m\u001b[0mpath\u001b[0m\u001b[0;34m.\u001b[0m\u001b[0mappend\u001b[0m\u001b[0;34m(\u001b[0m\u001b[0;34mf\"{os.path.dirname(__file__)}/../..\"\u001b[0m\u001b[0;34m)\u001b[0m\u001b[0;34m\u001b[0m\u001b[0;34m\u001b[0m\u001b[0m\n\u001b[0m\u001b[1;32m     15\u001b[0m \u001b[0;32mfrom\u001b[0m \u001b[0mbotcore\u001b[0m\u001b[0;34m.\u001b[0m\u001b[0mutils\u001b[0m\u001b[0;34m.\u001b[0m\u001b[0mprompt_utils\u001b[0m \u001b[0;32mimport\u001b[0m \u001b[0mbuild_prompt\u001b[0m\u001b[0;34m\u001b[0m\u001b[0;34m\u001b[0m\u001b[0m\n\u001b[1;32m     16\u001b[0m \u001b[0;34m\u001b[0m\u001b[0m\n",
      "\u001b[0;31mNameError\u001b[0m: name '__file__' is not defined"
     ]
    }
   ],
   "source": [
    "ASK_FEATURE_CONST = \\\n",
    "{\"inputs\":[\"product\"],\n",
    " \"outputs\": {\"questions\": \"\"\"a js array of questions.\"\"\", \"options\": \"a js array of answer_list.\"},\n",
    "\"template\": \"\"\"You are a food allergist and you are trying to know your patient's food allergies. \n",
    "You will need to ask questions for your patient to answer.\n",
    "And you also need to give a list of answer options for each question. These lists are called answer_list and each of it must follows this format \"option, option, option,...\".\n",
    "{format_instructions}\n",
    "Questions:\"\"\"}\n",
    "\n",
    "from langchain.llms import BaseLLM\n",
    "from langchain import LLMChain\n",
    "import sys\n",
    "import os\n",
    "sys.path.append(f\"{os.path.dirname(__file__)}/../..\")\n",
    "from botcore.utils.prompt_utils import build_prompt\n",
    "\n",
    "def build_qa_generation_chain(model: BaseLLM):\n",
    "    inputs = ASK_FEATURE_CONST['inputs']\n",
    "    outputs = ASK_FEATURE_CONST['outputs']\n",
    "    template = ASK_FEATURE_CONST['template']\n",
    "    prompt = build_prompt(inputs, outputs, template, include_parser=True)\n",
    "    chain = LLMChain(llm=model, prompt=prompt, output_key='result')\n",
    "    return chain"
   ]
  }
 ],
 "metadata": {
  "kernelspec": {
   "display_name": "Python 3 (ipykernel)",
   "language": "python",
   "name": "python3"
  },
  "language_info": {
   "codemirror_mode": {
    "name": "ipython",
    "version": 3
   },
   "file_extension": ".py",
   "mimetype": "text/x-python",
   "name": "python",
   "nbconvert_exporter": "python",
   "pygments_lexer": "ipython3",
   "version": "3.10.6"
  }
 },
 "nbformat": 4,
 "nbformat_minor": 5
}
