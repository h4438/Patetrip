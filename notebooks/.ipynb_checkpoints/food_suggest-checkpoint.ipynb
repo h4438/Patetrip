{
 "cells": [
  {
   "cell_type": "markdown",
   "id": "e2f60696-707d-4ab2-bd5b-bf11be5ce171",
   "metadata": {},
   "source": [
    "# Food suggestion memory chain"
   ]
  },
  {
   "cell_type": "code",
   "execution_count": 25,
   "id": "91e9fd3a-8d83-48f1-8cdc-2625330228ed",
   "metadata": {},
   "outputs": [],
   "source": [
    "FOOD_SUGGEST_CONST = \\\n",
    "{\"inputs\":[\"chat_history\", \"length\"],\n",
    " \"outputs\": {\"chain\": \"return 'diagnose'.\",\n",
    "             \"allergens\": \"a js array of allergens.\",\n",
    "             \"reason\": \"a explanation for your diagnose.\", \n",
    "             \"guide\": \"a helpful guide to avoid the problem and also point out mistake that your patient is making.\"},\n",
    " \"template\": \"\"\"You are a nutrition doctor and you have asked your patient some questions about history medical record, eating habits, health goals and timeline.\n",
    " {chat_history}\n",
    "\n",
    "Mission: Based on what your patient have told, please give a diet plan for each {length} within your patient timeline.\n",
    "Requirement: You must adhere to the requirements listed in triple backquotes.\n",
    "```\n",
    "The diet plan for each week should consist of three meals: breakfast, lunch, dinner.\n",
    "Your patient should only eat one dish per meal.\n",
    "The diet plan should be followed for 2 months.\n",
    "```\n",
    "\n",
    "Desired Format: Each plan of a {length} should be followed the below format which is delimited in triple backquotes.\n",
    "```\n",
    "{length}_number \n",
    "Breakfast: A Dish. A short reason why choosing that dish.\n",
    "Lunch: A Dish. A short reason why choosing that dish.\n",
    "Dinner: A Dish. A short reason why choosing that dish.\n",
    "\n",
    "```\n",
    "Output:\"\"\"}\n",
    "\n",
    "from langchain.llms import BaseLLM\n",
    "from langchain import LLMChain, PromptTemplate\n",
    "import sys\n",
    "import os\n",
    "# sys.path.append(f\"{os.path.dirname(__file__)}/../..\")\n",
    "sys.path.append('../')\n",
    "from botcore.utils import build_prompt\n",
    "from botcore.setup import trace_palm2\n",
    "\n",
    "\n",
    "def build_food_suggest_chain(model, memory):\n",
    "    inputs = FOOD_SUGGEST_CONST['inputs']\n",
    "    # outputs = FOOD_SUGGEST_CONST['outputs']\n",
    "    template = FOOD_SUGGEST_CONST['template']\n",
    "    prompt = PromptTemplate(template=template, input_variables=inputs)\n",
    "    chain = LLMChain(llm=model, prompt=prompt, output_key='result', verbose=True, memory=memory)\n",
    "    return chain\n"
   ]
  },
  {
   "cell_type": "code",
   "execution_count": 26,
   "id": "223e2f99-99d9-4649-ad36-1c57e576927b",
   "metadata": {},
   "outputs": [
    {
     "name": "stdout",
     "output_type": "stream",
     "text": [
      "Enable tracing at test-deploy\n",
      "Vertex AI Palm 2 ready\n"
     ]
    }
   ],
   "source": [
    "import sys\n",
    "sys.path.append(\"../\")\n",
    "from botcore.utils import load_sample_input, QAMemory\n",
    "from botcore.setup import trace_palm2\n",
    "\n",
    "questions, answers = load_sample_input()\n",
    "memory = QAMemory(input_key=\"length\")\n",
    "memory.load_qa(questions, answers)\n",
    "\n",
    "model = trace_palm2(max_tokens=1000)\n",
    "chain = build_food_suggest_chain(model,memory.get())"
   ]
  },
  {
   "cell_type": "code",
   "execution_count": 27,
   "id": "39aa2042-08aa-4360-bd7a-9aac325d6f35",
   "metadata": {},
   "outputs": [
    {
     "name": "stdout",
     "output_type": "stream",
     "text": [
      "\n",
      "\n",
      "\u001b[1m> Entering new  chain...\u001b[0m\n",
      "Prompt after formatting:\n",
      "\u001b[32;1m\u001b[1;3mYou are a nutrition doctor and you have asked your patient some questions about history medical record, eating habits, health goals and timeline.\n",
      " AI: Hello! I am a nutrition doctor who can help achiving health goals effectively.\n",
      "Human: Hello doctor, I need your help.\n",
      "AI: Can you share with me your history medical record?\n",
      "Human: No chronic diseases or food allergies.\n",
      "AI: Can you tell me about your eating habits?\n",
      "Human: Likes fast food and quick-prep meals but wants to switch to a healthier eating regimen\n",
      "AI: What are your health goals?\n",
      "Human: Weight loss and improving overall cardiovascular health.\n",
      "AI: What is your timeline for achieving your goals?\n",
      "Human: 2 to 3 months.\n",
      "\n",
      "Mission: Based on what your patient have told, please give a diet plan for each week within your patient timeline.\n",
      "Requirement: You must adhere to the requirements listed in triple backquotes.\n",
      "```\n",
      "The diet plan for each week should consist of three meals: breakfast, lunch, dinner.\n",
      "Your patient should only eat one dish per meal.\n",
      "The diet plan should be followed for 2 months.\n",
      "```\n",
      "\n",
      "Desired Format: Each plan of a week should be followed the below format which is delimited in triple backquotes.\n",
      "```\n",
      "week_number \n",
      "Breakfast: A Dish. A short reason why choosing that dish.\n",
      "Lunch: A Dish. A short reason why choosing that dish.\n",
      "Dinner: A Dish. A short reason why choosing that dish.\n",
      "\n",
      "```\n",
      "Output:\u001b[0m\n",
      "\n",
      "\u001b[1m> Finished chain.\u001b[0m\n"
     ]
    },
    {
     "data": {
      "text/plain": [
       "{'length': 'week',\n",
       " 'chat_history': 'AI: Hello! I am a nutrition doctor who can help achiving health goals effectively.\\nHuman: Hello doctor, I need your help.\\nAI: Can you share with me your history medical record?\\nHuman: No chronic diseases or food allergies.\\nAI: Can you tell me about your eating habits?\\nHuman: Likes fast food and quick-prep meals but wants to switch to a healthier eating regimen\\nAI: What are your health goals?\\nHuman: Weight loss and improving overall cardiovascular health.\\nAI: What is your timeline for achieving your goals?\\nHuman: 2 to 3 months.',\n",
       " 'result': '```\\nWeek 1\\nBreakfast: Oatmeal with fruit and nuts. This is a healthy and filling breakfast that will help you stay full until lunch.\\nLunch: Salad with grilled chicken or fish. This is a light and healthy meal that is perfect for a busy day.\\nDinner: Salmon with roasted vegetables. This is a healthy and flavorful meal that is perfect for a night at home.\\n\\nWeek 2\\nBreakfast: Yogurt with berries and granola. This is a healthy and filling breakfast that will help you stay full until lunch.\\nLunch: Sandwich on whole-wheat bread with lean protein, vegetables, and fruit. This is a balanced and healthy meal that is perfect for a busy day.\\nDinner: Chicken stir-fry with brown rice. This is a healthy and flavorful meal that is perfect for a night at home.\\n\\nWeek 3\\nBreakfast: Scrambled eggs with vegetables. This is a healthy and filling breakfast that will help you stay full until lunch.\\nLunch: Soup and salad. This is a light and healthy meal that is perfect for a busy day.\\nDinner: Vegetarian chili with whole-wheat bread. This is a healthy and flavorful meal that is perfect for a night at home.\\n\\nWeek 4\\nBreakfast: Whole-wheat toast with peanut butter and banana. This is a healthy and filling breakfast that will help you stay full until lunch.\\nLunch: Leftover chicken stir-fry with brown rice. This is a healthy and flavorful meal that is perfect for a busy day.\\nDinner: Salmon with roasted vegetables. This is a healthy and flavorful meal that is perfect for a night at home.\\n\\nWeek 5\\nBreakfast: Yogurt with berries and granola. This is a healthy and filling breakfast that will help you stay full until lunch.\\nLunch: Salad with grilled chicken or fish. This is a light and healthy meal that is perfect for a busy day.\\nDinner: Vegetarian chili with whole-wheat bread. This is a healthy and flavorful meal that is perfect for a night at home.\\n\\nWeek 6\\nBreakfast: Oatmeal with fruit and nuts. This is a healthy and filling breakfast that will help you stay full until lunch.\\nLunch: Sandwich on whole-wheat bread with lean protein, vegetables, and fruit. This is a balanced and healthy meal that is perfect for a busy day.\\nDinner: Chicken stir-fry with brown rice. This is a healthy and flavorful meal that is perfect for a night at home.\\n\\nWeek 7\\nBreakfast: Scrambled eggs with vegetables. This is a healthy and filling breakfast that will help you stay full until lunch.\\nLunch: Soup and salad. This is a light and healthy meal that is perfect for a busy day.\\nDinner: Salmon with roasted vegetables. This is a healthy and flavorful meal that is perfect for a night at home.\\n\\nWeek 8\\nBreakfast: Whole-wheat toast with peanut butter and banana. This is a healthy and filling breakfast that will help you stay full until lunch.\\nLunch: Leftover chicken stir-fry with brown rice. This is a healthy and flavorful meal that is perfect for a busy day.\\nDinner: Vegetarian chili with whole-wheat bread. This is a healthy and flavorful meal that is perfect for a night at home.\\n\\nWeek 9\\nBreakfast: Yogurt with berries and granola. This is a healthy and filling breakfast that will help you stay full until lunch.\\nLunch: Salad with grilled chicken or fish. This is a light and healthy meal that is perfect for a busy day.\\nDinner: Salmon with roasted vegetables. This is a healthy and flavorful meal that is perfect for a night at home.\\n\\nWeek 10\\nBreakfast: Oatmeal with fruit and nuts. This is a healthy and filling breakfast that will help you stay full until lunch.\\nLunch: Sandwich on whole-wheat bread with lean protein, vegetables, and fruit. This is a balanced and healthy meal that is perfect for a busy day.\\nDinner: Chicken stir-fry with brown rice. This is a healthy and flavorful meal that is perfect for a night at home.\\n\\nWeek 11\\nBreakfast: Scrambled eggs with vegetables. This is a healthy and filling breakfast that will help you stay full until lunch.\\nLunch: Soup and salad. This is a light and healthy meal that is perfect for a busy day.\\nDinner: Salmon with roasted vegetables. This is a healthy and flavorful meal that is perfect for a night at home.\\n\\nWeek 12\\nBreakfast: Whole-wheat toast with peanut butter and banana. This is a healthy and filling breakfast that will help you stay full until lunch.\\nLunch: Leftover chicken stir-fry'}"
      ]
     },
     "execution_count": 27,
     "metadata": {},
     "output_type": "execute_result"
    }
   ],
   "source": [
    "ans = chain({\"length\": \"week\"})\n",
    "ans"
   ]
  },
  {
   "cell_type": "markdown",
   "id": "6dc02c07-e5ef-4a9c-88b9-eb64d04cde4e",
   "metadata": {},
   "source": [
    "# Food suggestion normal chain"
   ]
  },
  {
   "cell_type": "code",
   "execution_count": 4,
   "id": "56f221f1-eeba-47d2-bfcb-6046e9d8c2eb",
   "metadata": {},
   "outputs": [],
   "source": [
    "FOOD_SUGGEST_CONST = \\\n",
    "{\"inputs\":[\"length\", 'medical_record', 'eating_habit', 'health_goal', 'timeline'],\n",
    " \"template\": \"\"\"You are a nutrition doctor and you have asked your patient some questions about history medical record, eating habits, health goals.\n",
    "\n",
    "Your patient medical record: {medical_record}.\n",
    "Your patient eating habits: {eating_habit}.\n",
    "Your patient health goals: {health_goal}.\n",
    "\n",
    "Mission: Based on what your patient have told, please give a diet plan for each {length} within your patient timeline.\n",
    "Requirement: You must adhere to the requirements listed in triple backquotes.\n",
    "```\n",
    "The diet plan for each week should consist of three meals: breakfast, lunch, dinner.\n",
    "Your patient should only eat one dish per meal.\n",
    "The diet plan should be followed for {timeline}.\n",
    "```\n",
    "\n",
    "Desired Format: Each plan of a {length} should be followed the below format which is delimited in triple backquotes.\n",
    "```\n",
    "{length}_number \n",
    "Breakfast: A Dish. A short reason why choosing that dish.\n",
    "Lunch: A Dish. A short reason why choosing that dish.\n",
    "Dinner: A Dish. A short reason why choosing that dish.\n",
    "\n",
    "```\n",
    "Output:\"\"\"}\n",
    "\n",
    "from langchain.llms import BaseLLM\n",
    "from langchain import LLMChain, PromptTemplate\n",
    "import sys\n",
    "import os\n",
    "# sys.path.append(f\"{os.path.dirname(__file__)}/../..\")\n",
    "sys.path.append('../')\n",
    "from botcore.utils import build_prompt\n",
    "from botcore.setup import trace_palm2\n",
    "\n",
    "\n",
    "def build_food_suggest_chain(model):\n",
    "    inputs = FOOD_SUGGEST_CONST['inputs']\n",
    "    # outputs = FOOD_SUGGEST_CONST['outputs']\n",
    "    template = FOOD_SUGGEST_CONST['template']\n",
    "    prompt = PromptTemplate(template=template, input_variables=inputs)\n",
    "    chain = LLMChain(llm=model, prompt=prompt, output_key='result', verbose=True)\n",
    "    return chain\n"
   ]
  },
  {
   "cell_type": "code",
   "execution_count": 8,
   "id": "1d46adfa-885f-425a-b252-fbdbe58d14fb",
   "metadata": {},
   "outputs": [
    {
     "name": "stdout",
     "output_type": "stream",
     "text": [
      "Enable tracing at test-deploy\n",
      "Vertex AI Palm 2 ready\n"
     ]
    }
   ],
   "source": [
    "import sys\n",
    "sys.path.append(\"../\")\n",
    "from botcore.utils import load_example_input\n",
    "from botcore.setup import trace_palm2\n",
    "\n",
    "input = load_example_input()\n",
    "\n",
    "model = trace_palm2(max_tokens=1000)\n",
    "chain = build_food_suggest_chain(model)"
   ]
  },
  {
   "cell_type": "code",
   "execution_count": 12,
   "id": "39d7f5ca-14d0-434e-a8c5-0e8a30645eb8",
   "metadata": {},
   "outputs": [
    {
     "name": "stdout",
     "output_type": "stream",
     "text": [
      "\n",
      "\n",
      "\u001b[1m> Entering new  chain...\u001b[0m\n",
      "Prompt after formatting:\n",
      "\u001b[32;1m\u001b[1;3mYou are a nutrition doctor and you have asked your patient some questions about history medical record, eating habits, health goals.\n",
      "\n",
      "Your patient medical record: No chronic diseases or food allergies..\n",
      "Your patient eating habits: Likes fast food and quick-prep meals but wants to switch to a healthier eating regimen.\n",
      "Your patient health goals: Weight loss and improving overall cardiovascular health..\n",
      "\n",
      "Mission: Based on what your patient have told, please give a diet plan for each week within your patient timeline.\n",
      "Requirement: You must adhere to the requirements listed in triple backquotes.\n",
      "```\n",
      "The diet plan for each week should consist of three meals: breakfast, lunch, dinner.\n",
      "Your patient should only eat one dish per meal.\n",
      "The diet plan should be followed for 1 month.\n",
      "```\n",
      "\n",
      "Desired Format: Each plan of a week should be followed the below format which is delimited in triple backquotes.\n",
      "```\n",
      "week_number \n",
      "Breakfast: A Dish. A short reason why choosing that dish.\n",
      "Lunch: A Dish. A short reason why choosing that dish.\n",
      "Dinner: A Dish. A short reason why choosing that dish.\n",
      "\n",
      "```\n",
      "Output:\u001b[0m\n",
      "\n",
      "\u001b[1m> Finished chain.\u001b[0m\n"
     ]
    },
    {
     "data": {
      "text/plain": [
       "{'length': 'week',\n",
       " 'medical_record': 'No chronic diseases or food allergies.',\n",
       " 'eating_habit': 'Likes fast food and quick-prep meals but wants to switch to a healthier eating regimen',\n",
       " 'health_goal': 'Weight loss and improving overall cardiovascular health.',\n",
       " 'timeline': '1 month',\n",
       " 'result': '```\\nWeek 1\\nBreakfast: Oatmeal with fruit and nuts. This is a healthy and filling breakfast that is high in fiber and protein.\\nLunch: Salad with grilled chicken or tofu. This is a light and healthy lunch that is packed with nutrients.\\nDinner: Salmon with roasted vegetables. This is a healthy and satisfying dinner that is high in omega-3 fatty acids.\\n\\nWeek 2\\nBreakfast: Yogurt with berries and granola. This is a healthy and filling breakfast that is high in protein and fiber.\\nLunch: Sandwich on whole-wheat bread with lean protein, vegetables, and fruit. This is a healthy and satisfying lunch that is packed with nutrients.\\nDinner: Chicken stir-fry with brown rice. This is a healthy and flavorful dinner that is high in protein and fiber.\\n\\nWeek 3\\nBreakfast: Scrambled eggs with vegetables. This is a healthy and filling breakfast that is high in protein and fiber.\\nLunch: Soup and salad. This is a light and healthy lunch that is packed with nutrients.\\nDinner: Vegetarian chili with whole-wheat bread. This is a healthy and hearty dinner that is high in fiber and protein.\\n\\nWeek 4\\nBreakfast: Whole-wheat toast with peanut butter and banana. This is a healthy and filling breakfast that is high in protein and fiber.\\nLunch: Leftover chicken stir-fry with brown rice. This is a healthy and flavorful dinner that is high in protein and fiber.\\nDinner: Salmon with roasted vegetables. This is a healthy and satisfying dinner that is high in omega-3 fatty acids.\\n```'}"
      ]
     },
     "execution_count": 12,
     "metadata": {},
     "output_type": "execute_result"
    }
   ],
   "source": [
    "input['timeline'] = '1 month'\n",
    "inputs = {\"length\": \"week\", **input}\n",
    "ans = chain(inputs)\n",
    "ans"
   ]
  }
 ],
 "metadata": {
  "kernelspec": {
   "display_name": "Python 3 (ipykernel)",
   "language": "python",
   "name": "python3"
  },
  "language_info": {
   "codemirror_mode": {
    "name": "ipython",
    "version": 3
   },
   "file_extension": ".py",
   "mimetype": "text/x-python",
   "name": "python",
   "nbconvert_exporter": "python",
   "pygments_lexer": "ipython3",
   "version": "3.10.6"
  }
 },
 "nbformat": 4,
 "nbformat_minor": 5
}
