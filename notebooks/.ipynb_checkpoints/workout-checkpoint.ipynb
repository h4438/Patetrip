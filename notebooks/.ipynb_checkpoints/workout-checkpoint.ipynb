{
 "cells": [
  {
   "cell_type": "code",
   "execution_count": 1,
   "id": "44bcf1a4-3332-4183-aed6-c3867addac53",
   "metadata": {},
   "outputs": [],
   "source": [
    "WORKOUT_SUGGEST_CHAIN = \\\n",
    "{\"inputs\":[\"chat_history\", \"time_unit\", \"timely\", \"day_number\", 'medical_record', 'health_goal', 'timeline', 'input'],\n",
    " \"outputs\": {\"exercises\": \"a js array of excercises for the workout routine.\",\n",
    "             \"frequency\": \"a js array of each excercise frequency.\",\n",
    "             \"description\": \"a description including the health usage of each excercise.\"},\n",
    " \"template\": \"\"\"You are a professional personal trainner.\n",
    " \n",
    " You have {timely} checkup with your customer and today is day number {day_number}.\n",
    " {chat_history}\n",
    " \n",
    " Your customer response to you: \"{input}\".\n",
    " \n",
    " You have noted your customer's history medical record and health goals.\n",
    "Medical record: {medical_record}.\n",
    "Health goals: {health_goal}.\n",
    "\n",
    "Mission: Based on what your customer have told and what you have advised so far, please plan the next {time_unit} workout routine for your customer.\n",
    "Requirements: You must adhere to the requirements listed in triple backquotes.\n",
    "```\n",
    "The workout routine should contain easy to do exercises that can be done at home.\n",
    "You should note in mind your customer's health goals, in order to devise a suitable workout plan.\n",
    "You should check carefully your customer's medical record before making any decision. Avoid including any exercises that your customer should not do.\n",
    "Your workout routine should be fully thought and well planned so that your customer can achieve the health goal in {timeline} provided that your customer do the routine {timely}. \n",
    "```\n",
    "\n",
    "{format_instructions}\n",
    "\n",
    "Output:\"\"\"}\n",
    "\n",
    "from langchain.llms import BaseLLM\n",
    "from langchain import LLMChain, PromptTemplate\n",
    "import sys\n",
    "import os\n",
    "from typing import Dict\n",
    "# sys.path.append(f\"{os.path.dirname(__file__)}/../..\")\n",
    "sys.path.append('../')\n",
    "from botcore.utils import build_prompt, CheckupMemory, parse_nested_json\n",
    "from botcore.setup import trace_palm2\n",
    "\n",
    "def build_workout_suggest_chain(model, memory):\n",
    "    inputs = WORKOUT_SUGGEST_CHAIN['inputs']\n",
    "    outputs = WORKOUT_SUGGEST_CHAIN['outputs']\n",
    "    template = WORKOUT_SUGGEST_CHAIN['template']\n",
    "    prompt = build_prompt(inputs, outputs, template)\n",
    "    chain = LLMChain(llm=model, prompt=prompt, output_key='result', verbose=False, memory=memory)\n",
    "    return chain"
   ]
  },
  {
   "cell_type": "code",
   "execution_count": 2,
   "id": "4c52fa5a-797f-4b5c-a251-08ed072e23bc",
   "metadata": {},
   "outputs": [
    {
     "name": "stdout",
     "output_type": "stream",
     "text": [
      "Enable tracing at test-deploy\n",
      "Vertex AI Palm 2 ready\n"
     ]
    }
   ],
   "source": [
    "from botcore.setup import trace_palm2\n",
    "model = trace_palm2(max_tokens=200)\n",
    "memory = CheckupMemory(input_key='input', role='professional personal trainner')\n",
    "\n",
    "chain = build_workout_suggest_chain(model, memory.get())"
   ]
  },
  {
   "cell_type": "code",
   "execution_count": 7,
   "id": "e89162f5-4e3f-4e2a-a96f-fb4d2ea9f563",
   "metadata": {},
   "outputs": [
    {
     "name": "stdout",
     "output_type": "stream",
     "text": [
      "\n",
      "\n",
      "\u001b[1m> Entering new  chain...\u001b[0m\n",
      "Prompt after formatting:\n",
      "\u001b[32;1m\u001b[1;3mYou are a professional personal trainner.\n",
      " \n",
      " You have weekly checkup with your customer and today is day number 1.\n",
      " \n",
      " Your customer response to you: \"Hello!\".\n",
      " \n",
      " You have noted your customer's history medical record and health goals.\n",
      "Medical record: No chronic diseases or food allergies..\n",
      "Health goals: Weight loss and improving overall cardiovascular health..\n",
      "\n",
      "Mission: Based on what your customer have told and what you have advised so far, please plan the next week workout routine for your customer.\n",
      "Requirements: You must adhere to the requirements listed in triple backquotes.\n",
      "```\n",
      "The workout routine should contain easy to do exercises that can be done at home.\n",
      "You should note in mind your customer's health goals, in order to devise a suitable workout plan.\n",
      "You should check carefully your customer's medical record before making any decision. Avoid including any exercises that your customer should not do.\n",
      "Your workout routine should be fully thought and well planned so that your customer can achieve the health goal in 2 to 3 months. provided that your customer do the routine weekly. \n",
      "```\n",
      "\n",
      "The output should be a markdown code snippet formatted in the following schema, including the leading and trailing \"```json\" and \"```\":\n",
      "\n",
      "```json\n",
      "{\n",
      "\t\"exercises\": string  // a js array of excercises for the workout routine.\n",
      "\t\"frequency\": string  // a js array of each excercise frequency.\n",
      "\t\"description\": string  // a description including the health usage of each excercise.\n",
      "}\n",
      "```\n",
      "\n",
      "Output:\u001b[0m\n",
      "\n",
      "\u001b[1m> Finished chain.\u001b[0m\n"
     ]
    },
    {
     "data": {
      "text/plain": [
       "{'time_unit': 'week',\n",
       " 'timely': 'weekly',\n",
       " 'day_number': 1,\n",
       " 'input': 'Hello!',\n",
       " 'medical_record': 'No chronic diseases or food allergies.',\n",
       " 'eating_habit': 'Likes fast food and quick-prep meals but wants to switch to a healthier eating regimen',\n",
       " 'health_goal': 'Weight loss and improving overall cardiovascular health.',\n",
       " 'timeline': '2 to 3 months.',\n",
       " 'result': '```json\\n{\\n  \"exercises\": [\"Walking\", \"Squats\", \"Push-ups\", \"Plank\"],\\n  \"frequency\": [\"3 times a week\", \"3 times a week\", \"3 times a week\", \"3 times a week\"],\\n  \"description\": \"Walking is a great way to get in shape and improve your cardiovascular health. It\\'s also a low-impact exercise, so it\\'s easy on your joints. Squats are a great way to strengthen your legs and glutes. Push-ups are a great way to build upper body strength. Planks are a great way to work your core and improve your balance.\"\\n}\\n```'}"
      ]
     },
     "execution_count": 7,
     "metadata": {},
     "output_type": "execute_result"
    }
   ],
   "source": [
    "from botcore.utils import load_example_input\n",
    "input = load_example_input()\n",
    "\n",
    "ans = chain({\"time_unit\": \"week\", \"timely\": \"weekly\", \"day_number\": 1, \"input\": \"Hello!\", **input})\n",
    "ans"
   ]
  },
  {
   "cell_type": "code",
   "execution_count": 8,
   "id": "65b873f0-d76d-4af5-8bbe-da95f1a081db",
   "metadata": {},
   "outputs": [
    {
     "data": {
      "text/plain": [
       "{'exercises': ['Walking', 'Squats', 'Push-ups', 'Plank'],\n",
       " 'frequency': ['3 times a week',\n",
       "  '3 times a week',\n",
       "  '3 times a week',\n",
       "  '3 times a week'],\n",
       " 'description': \"Walking is a great way to get in shape and improve your cardiovascular health. It's also a low-impact exercise, so it's easy on your joints. Squats are a great way to strengthen your legs and glutes. Push-ups are a great way to build upper body strength. Planks are a great way to work your core and improve your balance.\"}"
      ]
     },
     "execution_count": 8,
     "metadata": {},
     "output_type": "execute_result"
    }
   ],
   "source": [
    "from botcore.utils import parse_nested_json\n",
    "data = parse_nested_json(ans['result'])\n",
    "data"
   ]
  }
 ],
 "metadata": {
  "kernelspec": {
   "display_name": "Python 3 (ipykernel)",
   "language": "python",
   "name": "python3"
  },
  "language_info": {
   "codemirror_mode": {
    "name": "ipython",
    "version": 3
   },
   "file_extension": ".py",
   "mimetype": "text/x-python",
   "name": "python",
   "nbconvert_exporter": "python",
   "pygments_lexer": "ipython3",
   "version": "3.10.6"
  }
 },
 "nbformat": 4,
 "nbformat_minor": 5
}
