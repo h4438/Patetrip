{
 "cells": [
  {
   "cell_type": "code",
   "execution_count": 1,
   "id": "8bbf56c5-e3dc-410f-828a-a5347247be40",
   "metadata": {},
   "outputs": [
    {
     "name": "stdout",
     "output_type": "stream",
     "text": [
      "Enable tracing at test-deploy\n",
      "Vertex AI Palm 2 ready\n"
     ]
    }
   ],
   "source": [
    "WORKOUT_SUGGEST_CHAIN = \\\n",
    "{\"inputs\":[\"time_unit\", \"timely\", 'medical_record', 'health_goal', 'timeline', 'eating_habit'],\n",
    " \"template\": \"\"\"You are a professional personal trainner.\n",
    "  \n",
    " You have noted your customer's history medical record, eating habits and health goals.\n",
    "Medical record: {medical_record}.\n",
    "Eating habits: {eating_habit}.\n",
    "Health goals: {health_goal}.\n",
    "\n",
    "Mission: Based on what you have noted, please plan the next {time_unit} workout routine for {timeline}.\n",
    "Requirements: You must adhere to the requirements listed in triple backquotes.\n",
    "```\n",
    "The workout routine should contain easy to do exercises that can be done at home.\n",
    "You should note in mind your customer's health goals, in order to devise a suitable workout plan.\n",
    "You should check carefully your customer's medical record before making any decision. Avoid including any exercises that your customer should not do.\n",
    "```\n",
    "\n",
    "Desired Format: Each {timely} workout routine output should follow the below format.\n",
    "\n",
    "# {time_unit}_number: \n",
    "EXERCISE: <comma_separated_list_of_no_more_than_five_exercises_that_can_be_done_at_home>\n",
    "DESC: <a_description_including_each_exercise's_health_usage_of_{time_unit}_number_workout_routine>\n",
    "TARGET: <a_target_for_{time_unit}_number_workout_routine>\n",
    "\n",
    "Output:\"\"\"}\n",
    "\n",
    "from langchain import LLMChain, PromptTemplate\n",
    "import sys\n",
    "import os\n",
    "from typing import Dict\n",
    "# sys.path.append(f\"{os.path.dirname(__file__)}/../..\")\n",
    "sys.path.append('../')\n",
    "from botcore.setup import trace_palm2\n",
    "\n",
    "def build_workout_suggest_chain(model, debug = False):\n",
    "    inputs = WORKOUT_SUGGEST_CHAIN['inputs']\n",
    "    template = WORKOUT_SUGGEST_CHAIN['template']\n",
    "    prompt = PromptTemplate(input_variables=inputs, template=template)\n",
    "    chain = LLMChain(llm=model, prompt=prompt, output_key='result', verbose=debug)\n",
    "    return chain\n",
    "\n",
    "model = trace_palm2(max_tokens=500)\n",
    "chain = build_workout_suggest_chain(model)\n"
   ]
  },
  {
   "cell_type": "code",
   "execution_count": 2,
   "id": "dfc62e07-2c5f-4873-99c1-f6920a4a72a4",
   "metadata": {},
   "outputs": [],
   "source": [
    "from botcore.utils import load_example_input\n",
    "input_data = load_example_input()\n",
    "input_data['timeline'] = '3 months'\n",
    "inputs = {\"time_unit\": \"month\", \"timely\": \"monthly\", **input_data}\n",
    "ans = chain(inputs)\n",
    "# data = parse_nested_json(ans['result'])"
   ]
  },
  {
   "cell_type": "code",
   "execution_count": 1,
   "id": "7049a02d-bcf6-4972-a8c0-2a0eb1c72b0f",
   "metadata": {},
   "outputs": [
    {
     "ename": "NameError",
     "evalue": "name 'ans' is not defined",
     "output_type": "error",
     "traceback": [
      "\u001b[0;31m---------------------------------------------------------------------------\u001b[0m",
      "\u001b[0;31mNameError\u001b[0m                                 Traceback (most recent call last)",
      "\u001b[0;32m/tmp/ipykernel_6481/3200555692.py\u001b[0m in \u001b[0;36m<module>\u001b[0;34m\u001b[0m\n\u001b[1;32m     13\u001b[0m     \u001b[0;32mreturn\u001b[0m \u001b[0mresult\u001b[0m\u001b[0;34m\u001b[0m\u001b[0;34m\u001b[0m\u001b[0m\n\u001b[1;32m     14\u001b[0m \u001b[0;34m\u001b[0m\u001b[0m\n\u001b[0;32m---> 15\u001b[0;31m \u001b[0mdata\u001b[0m \u001b[0;34m=\u001b[0m \u001b[0mparse_workout_list\u001b[0m\u001b[0;34m(\u001b[0m\u001b[0mans\u001b[0m\u001b[0;34m[\u001b[0m\u001b[0;34m'result'\u001b[0m\u001b[0;34m]\u001b[0m\u001b[0;34m)\u001b[0m\u001b[0;34m\u001b[0m\u001b[0;34m\u001b[0m\u001b[0m\n\u001b[0m\u001b[1;32m     16\u001b[0m \u001b[0;32mfrom\u001b[0m \u001b[0mpprint\u001b[0m \u001b[0;32mimport\u001b[0m \u001b[0mpprint\u001b[0m \u001b[0;32mas\u001b[0m \u001b[0mppt\u001b[0m\u001b[0;34m\u001b[0m\u001b[0;34m\u001b[0m\u001b[0m\n\u001b[1;32m     17\u001b[0m \u001b[0mppt\u001b[0m\u001b[0;34m(\u001b[0m\u001b[0mdata\u001b[0m\u001b[0;34m)\u001b[0m\u001b[0;34m\u001b[0m\u001b[0;34m\u001b[0m\u001b[0m\n",
      "\u001b[0;31mNameError\u001b[0m: name 'ans' is not defined"
     ]
    }
   ],
   "source": [
    "from pprint import pprint as ppt\n",
    "\n",
    "def parse_workout_list(list_str: str):\n",
    "    result = []\n",
    "    plans = list_str.strip().split(\"#\")\n",
    "    for plan in plans:\n",
    "        data = {}\n",
    "        if len(plan) < 1:\n",
    "            continue\n",
    "        content = plan.strip().split('\\n')\n",
    "        data['exercise'] = content[1].replace(\"EXERCISE: \",'').replace(\" \",'').split(\",\")\n",
    "        data['description'] = content[2].replace(\"DESC: \", '').strip()\n",
    "        data['heading'] = content[3].replace(\"TARGET: \", '').strip()\n",
    "        result.append(data)\n",
    "    return result\n",
    "\n",
    "data = parse_workout_list(ans['result'])\n",
    "ppt(data)"
   ]
  }
 ],
 "metadata": {
  "kernelspec": {
   "display_name": "Python 3 (ipykernel)",
   "language": "python",
   "name": "python3"
  },
  "language_info": {
   "codemirror_mode": {
    "name": "ipython",
    "version": 3
   },
   "file_extension": ".py",
   "mimetype": "text/x-python",
   "name": "python",
   "nbconvert_exporter": "python",
   "pygments_lexer": "ipython3",
   "version": "3.10.6"
  }
 },
 "nbformat": 4,
 "nbformat_minor": 5
}
