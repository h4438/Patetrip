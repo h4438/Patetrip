{
 "cells": [
  {
   "cell_type": "markdown",
   "id": "fa8d4934-c0e1-44ee-961b-7039e9ddb5dc",
   "metadata": {},
   "source": [
    "# Food advisor bot"
   ]
  },
  {
   "cell_type": "code",
   "execution_count": 36,
   "id": "be32ae4b-1fdb-44a9-8fdb-e74c7e7fbb4e",
   "metadata": {},
   "outputs": [],
   "source": [
    "import sys\n",
    "import os\n",
    "from typing import List\n",
    "# sys.path.append(f\"{os.path.dirname(__file__)}/../..\")\n",
    "sys.path.append(\"../\")\n",
    "from botcore.chains.allergen_diagnose_chain import build_allergen_diagnose_chain\n",
    "from botcore.utils import QAMemory, parse_nested_json\n",
    "from botcore.food_search import FoodFinder\n",
    "from botcore.setup import trace_palm2\n",
    "\n",
    "class FoodAdvisor:\n",
    "\n",
    "    def __init__(self, problem:str, questions: List[str], answers: List[str]):\n",
    "        model = trace_palm2(session='food_search', max_tokens=200)\n",
    "        self.memory = QAMemory(input_key='verb')\n",
    "        self.memory.load_all(problem, questions, answers)\n",
    "        self.diagnose = build_allergen_diagnose_chain(model, self.memory.memory)\n",
    "        self.food_finder = FoodFinder(model)\n",
    "        print(\"Food advisor is ready\")\n",
    "\n",
    "    def find_signature_food(self, place: str):\n",
    "        data = self.food_finder.find(place)\n",
    "        return data\n",
    "        \n",
    "    def diagnose_allergen(self):\n",
    "        ans = self.diagnose({\"verb\": \"diagnose\"})\n",
    "        data = parse_nested_json(ans['result'])\n",
    "        return data\n",
    "        "
   ]
  },
  {
   "cell_type": "code",
   "execution_count": 37,
   "id": "44c1705f-1be9-4c2f-939f-a25d773aab11",
   "metadata": {},
   "outputs": [
    {
     "name": "stdout",
     "output_type": "stream",
     "text": [
      "Enable tracing at food_search\n",
      "Vertex AI Palm 2 ready\n",
      "Load done\n",
      "Food finder is ready\n",
      "Food advisor is ready\n"
     ]
    }
   ],
   "source": [
    "from botcore.utils import load_sample_qa\n",
    "\n",
    "p , q , a = load_sample_qa()\n",
    "advisor = FoodAdvisor(p, q, a)"
   ]
  },
  {
   "cell_type": "code",
   "execution_count": 38,
   "id": "5ffeec20-28d8-4083-872e-37123fd7ab5a",
   "metadata": {},
   "outputs": [
    {
     "name": "stdout",
     "output_type": "stream",
     "text": [
      "Searching Top signature dishes in Japan.\n"
     ]
    }
   ],
   "source": [
    "place = \"Japan\"\n",
    "food = advisor.find_signature_food(place)\n",
    "# allergen = advisor.diagnose_allergen()"
   ]
  },
  {
   "cell_type": "code",
   "execution_count": 39,
   "id": "75b5d69a-1d86-41cc-8581-b3f4784317b0",
   "metadata": {},
   "outputs": [
    {
     "data": {
      "text/plain": [
       "{'chain': 'find_food',\n",
       " 'food': ['Tempura', 'Kaiyaki-misu', 'Shabu-shabu', 'Katsu karē'],\n",
       " 'desc': ['Tempura is a dish of battered and fried fish, seafood, or vegetables.',\n",
       "  'Kaiyaki-misu is a traditional Japanese dish originating from the Tsugaru region in Aomori prefecture. The dish is made by simmering scallops, eggs, leeks, and scallions in miso-based broth.',\n",
       "  'Shabu-shabu is a Japanese hot pot dish consisting of thinly sliced meat, vegetables, and tofu cooked in a simmering pot of dashi broth.',\n",
       "  'Katsu karē is a Japanese curry variation made with a combination of tonkatsu (breaded and fried pork or chicken cutlet) and curry sauce.']}"
      ]
     },
     "execution_count": 39,
     "metadata": {},
     "output_type": "execute_result"
    }
   ],
   "source": [
    "food"
   ]
  },
  {
   "cell_type": "code",
   "execution_count": 40,
   "id": "85581187-bf3b-47a5-9bb4-204c1a1ec1df",
   "metadata": {},
   "outputs": [
    {
     "name": "stdout",
     "output_type": "stream",
     "text": [
      "Tempura is Tempura is a dish of battered and fried fish, seafood, or vegetables.\n",
      "Kaiyaki-misu is Kaiyaki-misu is a traditional Japanese dish originating from the Tsugaru region in Aomori prefecture. The dish is made by simmering scallops, eggs, leeks, and scallions in miso-based broth.\n",
      "Shabu-shabu is Shabu-shabu is a Japanese hot pot dish consisting of thinly sliced meat, vegetables, and tofu cooked in a simmering pot of dashi broth.\n",
      "Katsu karē is Katsu karē is a Japanese curry variation made with a combination of tonkatsu (breaded and fried pork or chicken cutlet) and curry sauce.\n",
      "peanuts\n"
     ]
    }
   ],
   "source": [
    "food_str = \"\\n\".join([f\"{name} is {desc}\" for name, desc in zip(food['food'], food['desc'])])\n",
    "allergen_str = '\\n'.join(allergen['allergens'])\n",
    "print(food_str)\n",
    "print(allergen_str)"
   ]
  },
  {
   "cell_type": "code",
   "execution_count": 41,
   "id": "6ea9fdff-3490-48e0-ab7f-e7f29df272f1",
   "metadata": {},
   "outputs": [],
   "source": [
    "FOOD_ADVISE_CONST = \\\n",
    "{\"inputs\":[\"food_list\", \"allergens\", \"place\"],\n",
    " \"outputs\": {\"chain\": \"return 'advise'.\",\"avoid\": \"a js array of allergic dishes.\", \"reason\": \"a js array of reason for each allergic dishes.\"},\n",
    " \"template\": \"\"\"You are a food allergist who is living in {place}. You are currently advising your patient about the dishes needed to avoid.\n",
    "Given the allergen list described in triple backquotes.\n",
    "```\n",
    "{allergens}\n",
    "```\n",
    "\n",
    "Given the list of signature dishes of {place} described in triple backquotes.\n",
    "```\n",
    "{food_list}\n",
    "```\n",
    "\n",
    "Mission: Based on the allergen list, you will need to sort out the allergic dishes that the patient should avoid and explain the reason.\n",
    "\n",
    "{format_instructions}\n",
    "\n",
    "Output:\"\"\"}\n",
    "\n",
    "from langchain.llms import BaseLLM\n",
    "from langchain import LLMChain\n",
    "import sys\n",
    "import os\n",
    "# sys.path.append(f\"{os.path.dirname(__file__)}/../..\")\n",
    "sys.path.append('../')\n",
    "from botcore.utils import build_prompt\n",
    "from botcore.setup import trace_palm2\n",
    "\n",
    "def build_food_advise_chain(model: BaseLLM):\n",
    "    inputs = FOOD_ADVISE_CONST['inputs']\n",
    "    outputs = FOOD_ADVISE_CONST['outputs']\n",
    "    template = FOOD_ADVISE_CONST['template']\n",
    "    prompt = build_prompt(inputs, outputs, template, include_parser=True)\n",
    "    chain = LLMChain(llm=model, prompt=prompt, output_key='result')\n",
    "    return chain\n"
   ]
  },
  {
   "cell_type": "code",
   "execution_count": 42,
   "id": "1115e723-7a48-49e7-876f-827648ab104c",
   "metadata": {},
   "outputs": [
    {
     "name": "stdout",
     "output_type": "stream",
     "text": [
      "Enable tracing at test-deploy\n",
      "Vertex AI Palm 2 ready\n"
     ]
    },
    {
     "data": {
      "text/plain": [
       "{'food_list': 'Tempura is Tempura is a dish of battered and fried fish, seafood, or vegetables.\\nKaiyaki-misu is Kaiyaki-misu is a traditional Japanese dish originating from the Tsugaru region in Aomori prefecture. The dish is made by simmering scallops, eggs, leeks, and scallions in miso-based broth.\\nShabu-shabu is Shabu-shabu is a Japanese hot pot dish consisting of thinly sliced meat, vegetables, and tofu cooked in a simmering pot of dashi broth.\\nKatsu karē is Katsu karē is a Japanese curry variation made with a combination of tonkatsu (breaded and fried pork or chicken cutlet) and curry sauce.',\n",
       " 'allergens': 'peanuts',\n",
       " 'place': 'Japan',\n",
       " 'result': '```json\\n{\\n  \"chain\": \"advise\",\\n  \"avoid\": [\"Tempura\"],\\n  \"reason\": [\"Tempura contains peanuts\"]\\n}\\n```'}"
      ]
     },
     "execution_count": 42,
     "metadata": {},
     "output_type": "execute_result"
    }
   ],
   "source": [
    "model = trace_palm2()\n",
    "chain = build_food_advise_chain(model)\n",
    "\n",
    "ans = chain({\"food_list\": food_str, \"allergens\": allergen_str, \"place\": place})\n",
    "ans"
   ]
  }
 ],
 "metadata": {
  "kernelspec": {
   "display_name": "Python 3 (ipykernel)",
   "language": "python",
   "name": "python3"
  },
  "language_info": {
   "codemirror_mode": {
    "name": "ipython",
    "version": 3
   },
   "file_extension": ".py",
   "mimetype": "text/x-python",
   "name": "python",
   "nbconvert_exporter": "python",
   "pygments_lexer": "ipython3",
   "version": "3.10.6"
  }
 },
 "nbformat": 4,
 "nbformat_minor": 5
}
